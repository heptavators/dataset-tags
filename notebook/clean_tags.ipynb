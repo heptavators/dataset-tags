{
 "cells": [
  {
   "cell_type": "code",
   "execution_count": 1,
   "metadata": {},
   "outputs": [],
   "source": [
    "import numpy as np\n",
    "import pandas as pd\n",
    "\n",
    "from enum import Enum"
   ]
  },
  {
   "cell_type": "code",
   "execution_count": 2,
   "metadata": {},
   "outputs": [
    {
     "data": {
      "text/plain": [
       "array(['Memancing', 'Petualangan', 'Menyanyi', 'Berkuda', 'Membaca',\n",
       "       'Memanjat', 'Hang Out', 'Kuliner', 'Sepak bola', 'Yoga',\n",
       "       'Berenang', 'Ngopi', 'Teknologi', 'Mendaki', 'Rubik', 'Olahraga',\n",
       "       'Coding', 'Tidur', 'Merenung', 'Catur', 'Ice skating',\n",
       "       'Jalan jalan', 'Seni rupa', 'Basket', 'Astrografi', 'Badminton',\n",
       "       'Mendengarkan musik', 'Sosmed', 'Trading', 'Fotografi', 'Grafity',\n",
       "       'Belanja', 'Menonton', 'Browsing', 'Tenis meja', 'Bernyanyi',\n",
       "       'Billiard', 'Melukis', 'Kpopers', 'Menggambar', 'Touring', 'Golf',\n",
       "       'Merokok', 'Berdiskusi', 'Curhat', 'Berpikir', 'Berhitung',\n",
       "       'Puzzle', 'Belajar', 'Bersepeda', 'Voli', 'Gamers', 'Traveling',\n",
       "       'Gym', 'Kerja', 'Diskusi', 'Jogging', 'Lari', 'Sejarah', 'Futsal',\n",
       "       'Main kartu', 'Sulap', 'Surfing', 'Menulis', 'Eksperimen',\n",
       "       'Bermain musik', 'Hiking', 'Berkebun', 'Menyelam', 'Prank',\n",
       "       'Rebahan', 'Memasak', 'Menari', 'Poker', 'Menjahit', 'Pet lovers'],\n",
       "      dtype='<U18')"
      ]
     },
     "execution_count": 2,
     "metadata": {},
     "output_type": "execute_result"
    }
   ],
   "source": [
    "tag_hobi = list(set(input().split()))\n",
    "tag_hobi = np.array([tag.replace(\"-\", \" \") for tag in tag_hobi])\n",
    "\n",
    "tag_hobi"
   ]
  },
  {
   "cell_type": "code",
   "execution_count": 3,
   "metadata": {},
   "outputs": [
    {
     "data": {
      "text/plain": [
       "array(['Konsultan keuangan', 'Animator', 'Filsafat', 'Diplomat',\n",
       "       'Pramugari', 'Pelukis', 'Arsitek', 'Astronom', 'Penerjemah',\n",
       "       'Kurator museum', 'Aktor/Aktris', 'Penari', 'Pemandu Wisata',\n",
       "       'Pemadam kebakaran', 'Penulis lagu', 'Pembuat perhiasan',\n",
       "       'Ahli hukum', 'Dubbing', 'Penyiar radio', 'Jurnalis', 'Cosplay',\n",
       "       '3D Modelling', 'Ahli nutrisi', 'Desainer Grafis', 'Geolog',\n",
       "       'Multimedia', 'Koki', 'Penulis', 'Peneliti', 'Seniman tato',\n",
       "       'Ilustrator', 'Desain Ui', 'Ahli ekologi', 'Dokter bedah',\n",
       "       'Content Creation', 'Fotografer', 'Editor', 'Nakhoda kapal',\n",
       "       'Desain', 'Cosplayer', 'Guru privat', 'Kepala dapur',\n",
       "       'Ilmuwan data', 'Programmer komputer', 'Penata rambut',\n",
       "       'Sutradara film', 'Penyanyi', 'Ahli biologi', 'Desainer interior',\n",
       "       'Montir mobil', 'Psikolog', 'Perawat', 'Arkeolog', 'Pialang saham',\n",
       "       'Analis keamanan'], dtype='<U19')"
      ]
     },
     "execution_count": 3,
     "metadata": {},
     "output_type": "execute_result"
    }
   ],
   "source": [
    "tag_profesi = list(set(input().split()))\n",
    "tag_profesi = np.array([tag.replace(\"-\", \" \") for tag in tag_profesi])\n",
    "\n",
    "tag_profesi"
   ]
  },
  {
   "cell_type": "code",
   "execution_count": 4,
   "metadata": {},
   "outputs": [
    {
     "data": {
      "text/plain": [
       "array(['Wibu', 'Anak Senja', 'Ramah', 'Berjiwa petualang', 'Kreatif',\n",
       "       'Ramah lingkungan', 'Self Development', 'Kutu Buku', 'Bekerja',\n",
       "       'Terorganisir', 'Introspektif', 'Sabar', 'Optimis', 'Skena',\n",
       "       'Penuh daya juang', 'Suka menolong', 'Berjiwa sosial',\n",
       "       'Pecinta alam', 'Fleksibel', 'Visioner', 'Kritis', 'Percaya diri',\n",
       "       'Independen', 'Analitis', 'Humoris', 'Intelektual', 'Disiplin',\n",
       "       'Penuh semangat', 'Rendah hati', 'Curhat', 'Keibuan',\n",
       "       'Perfeksionis', 'Riang', 'Patriotik', 'Ramah tamah', 'Romantis',\n",
       "       'Ambisius', 'Cerdas', 'Inovatif', 'Penuh energi', 'Dermawan'],\n",
       "      dtype='<U17')"
      ]
     },
     "execution_count": 4,
     "metadata": {},
     "output_type": "execute_result"
    }
   ],
   "source": [
    "tag_sifat = list(set(input().split()))\n",
    "tag_sifat = np.array([tag.replace(\"-\", \" \") for tag in tag_sifat])\n",
    "\n",
    "tag_sifat"
   ]
  },
  {
   "cell_type": "code",
   "execution_count": 5,
   "metadata": {},
   "outputs": [
    {
     "data": {
      "text/plain": [
       "(171, 172)"
      ]
     },
     "execution_count": 5,
     "metadata": {},
     "output_type": "execute_result"
    }
   ],
   "source": [
    "all_tags = []\n",
    "all_tags.extend(tag_hobi)\n",
    "all_tags.extend(tag_profesi)\n",
    "all_tags.extend(tag_sifat)\n",
    "all_tags = list(set(all_tags))\n",
    "\n",
    "len(all_tags), (len(tag_hobi) + len(tag_profesi) + len(tag_sifat))"
   ]
  },
  {
   "cell_type": "code",
   "execution_count": 6,
   "metadata": {},
   "outputs": [],
   "source": [
    "class Type(Enum):\n",
    "    HOBI = 'hobi'\n",
    "    PROFESI = 'profesi'\n",
    "    SIFAT = 'sifat'"
   ]
  },
  {
   "cell_type": "code",
   "execution_count": 7,
   "metadata": {},
   "outputs": [
    {
     "data": {
      "text/html": [
       "<div>\n",
       "<style scoped>\n",
       "    .dataframe tbody tr th:only-of-type {\n",
       "        vertical-align: middle;\n",
       "    }\n",
       "\n",
       "    .dataframe tbody tr th {\n",
       "        vertical-align: top;\n",
       "    }\n",
       "\n",
       "    .dataframe thead th {\n",
       "        text-align: right;\n",
       "    }\n",
       "</style>\n",
       "<table border=\"1\" class=\"dataframe\">\n",
       "  <thead>\n",
       "    <tr style=\"text-align: right;\">\n",
       "      <th></th>\n",
       "      <th>tag</th>\n",
       "      <th>type</th>\n",
       "    </tr>\n",
       "  </thead>\n",
       "  <tbody>\n",
       "    <tr>\n",
       "      <th>0</th>\n",
       "      <td>Wibu</td>\n",
       "      <td>sifat</td>\n",
       "    </tr>\n",
       "    <tr>\n",
       "      <th>1</th>\n",
       "      <td>Penuh semangat</td>\n",
       "      <td>sifat</td>\n",
       "    </tr>\n",
       "    <tr>\n",
       "      <th>2</th>\n",
       "      <td>Content Creation</td>\n",
       "      <td>profesi</td>\n",
       "    </tr>\n",
       "    <tr>\n",
       "      <th>3</th>\n",
       "      <td>Menyanyi</td>\n",
       "      <td>hobi</td>\n",
       "    </tr>\n",
       "    <tr>\n",
       "      <th>4</th>\n",
       "      <td>Ramah</td>\n",
       "      <td>sifat</td>\n",
       "    </tr>\n",
       "  </tbody>\n",
       "</table>\n",
       "</div>"
      ],
      "text/plain": [
       "                tag     type\n",
       "0              Wibu    sifat\n",
       "1    Penuh semangat    sifat\n",
       "2  Content Creation  profesi\n",
       "3          Menyanyi     hobi\n",
       "4             Ramah    sifat"
      ]
     },
     "execution_count": 7,
     "metadata": {},
     "output_type": "execute_result"
    }
   ],
   "source": [
    "all_tags_df = pd.DataFrame(columns=['tag', 'type'])\n",
    "\n",
    "\n",
    "for tag in all_tags:\n",
    "    if tag in tag_hobi:\n",
    "        type = Type.HOBI.value\n",
    "    elif tag in tag_profesi:\n",
    "        type = Type.PROFESI.value\n",
    "    else:\n",
    "        type = Type.SIFAT.value\n",
    "        \n",
    "    all_tags_df.loc[len(all_tags_df)] = [tag, type]\n",
    "\n",
    "all_tags_df.head()"
   ]
  },
  {
   "cell_type": "code",
   "execution_count": 8,
   "metadata": {},
   "outputs": [],
   "source": [
    "all_tags_df.to_csv('../data/tags.csv')"
   ]
  },
  {
   "cell_type": "code",
   "execution_count": null,
   "metadata": {},
   "outputs": [],
   "source": []
  }
 ],
 "metadata": {
  "kernelspec": {
   "display_name": "base",
   "language": "python",
   "name": "python3"
  },
  "language_info": {
   "codemirror_mode": {
    "name": "ipython",
    "version": 3
   },
   "file_extension": ".py",
   "mimetype": "text/x-python",
   "name": "python",
   "nbconvert_exporter": "python",
   "pygments_lexer": "ipython3",
   "version": "3.9.12"
  }
 },
 "nbformat": 4,
 "nbformat_minor": 2
}
