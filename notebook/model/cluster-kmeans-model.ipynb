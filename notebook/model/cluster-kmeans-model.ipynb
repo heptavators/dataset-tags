{
 "cells": [
  {
   "cell_type": "markdown",
   "metadata": {},
   "source": [
    "### Importing Libraries"
   ]
  },
  {
   "cell_type": "code",
   "execution_count": 37,
   "metadata": {},
   "outputs": [],
   "source": [
    "from sklearn.cluster import KMeans\n",
    "from sklearn.preprocessing import OneHotEncoder\n",
    "from sklearn.decomposition import PCA\n",
    "import warnings\n",
    "warnings.filterwarnings('ignore')\n",
    "import numpy as np\n",
    "import pandas as pd\n",
    "import matplotlib.pyplot as plt"
   ]
  },
  {
   "cell_type": "markdown",
   "metadata": {},
   "source": [
    "# Data Understanding"
   ]
  },
  {
   "cell_type": "markdown",
   "metadata": {},
   "source": [
    "### Data Path"
   ]
  },
  {
   "cell_type": "code",
   "execution_count": 38,
   "metadata": {},
   "outputs": [],
   "source": [
    "reviews_path = \"..\\\\..\\\\data\\\\reviews.csv\"\n",
    "talents_path = \"..\\\\..\\\\data\\\\talents.csv\"\n",
    "users_path = \"..\\\\..\\\\data\\\\users.csv\"\n",
    "tags_path = \"..\\\\..\\\\data\\\\tags.csv\" "
   ]
  },
  {
   "cell_type": "markdown",
   "metadata": {},
   "source": [
    "### Read CSV to DataFrame"
   ]
  },
  {
   "cell_type": "code",
   "execution_count": 39,
   "metadata": {},
   "outputs": [],
   "source": [
    "reviews_df = pd.read_csv(reviews_path)\n",
    "talents_df = pd.read_csv(talents_path)\n",
    "users_df = pd.read_csv(users_path)\n",
    "tags_df = pd.read_csv(tags_path)"
   ]
  },
  {
   "cell_type": "markdown",
   "metadata": {},
   "source": [
    "### Data Exploration"
   ]
  },
  {
   "cell_type": "code",
   "execution_count": 40,
   "metadata": {},
   "outputs": [
    {
     "name": "stdout",
     "output_type": "stream",
     "text": [
      "<class 'pandas.core.frame.DataFrame'>\n",
      "RangeIndex: 1026 entries, 0 to 1025\n",
      "Data columns (total 4 columns):\n",
      " #   Column     Non-Null Count  Dtype \n",
      "---  ------     --------------  ----- \n",
      " 0   user_id    1026 non-null   object\n",
      " 1   talent_id  1026 non-null   object\n",
      " 2   rating     1026 non-null   int64 \n",
      " 3   review     1026 non-null   object\n",
      "dtypes: int64(1), object(3)\n",
      "memory usage: 32.2+ KB\n"
     ]
    }
   ],
   "source": [
    "reviews_df.info()"
   ]
  },
  {
   "cell_type": "code",
   "execution_count": 41,
   "metadata": {},
   "outputs": [
    {
     "name": "stdout",
     "output_type": "stream",
     "text": [
      "<class 'pandas.core.frame.DataFrame'>\n",
      "RangeIndex: 509 entries, 0 to 508\n",
      "Data columns (total 8 columns):\n",
      " #   Column              Non-Null Count  Dtype \n",
      "---  ------              --------------  ----- \n",
      " 0   talent_id           509 non-null    object\n",
      " 1   talent_name         509 non-null    object\n",
      " 2   talent_gender       509 non-null    object\n",
      " 3   talent_birth_date   509 non-null    object\n",
      " 4   talent_age          509 non-null    int64 \n",
      " 5   talent_location     509 non-null    object\n",
      " 6   talent_tags         509 non-null    object\n",
      " 7   talent_description  509 non-null    object\n",
      "dtypes: int64(1), object(7)\n",
      "memory usage: 31.9+ KB\n"
     ]
    }
   ],
   "source": [
    "talents_df.info()"
   ]
  },
  {
   "cell_type": "code",
   "execution_count": 42,
   "metadata": {},
   "outputs": [
    {
     "name": "stdout",
     "output_type": "stream",
     "text": [
      "<class 'pandas.core.frame.DataFrame'>\n",
      "RangeIndex: 830 entries, 0 to 829\n",
      "Data columns (total 8 columns):\n",
      " #   Column            Non-Null Count  Dtype \n",
      "---  ------            --------------  ----- \n",
      " 0   user_id           830 non-null    object\n",
      " 1   user_name         830 non-null    object\n",
      " 2   user_gender       830 non-null    object\n",
      " 3   user_birth_date   830 non-null    object\n",
      " 4   user_age          830 non-null    int64 \n",
      " 5   user_location     830 non-null    object\n",
      " 6   user_tags         830 non-null    object\n",
      " 7   user_preferences  830 non-null    object\n",
      "dtypes: int64(1), object(7)\n",
      "memory usage: 52.0+ KB\n"
     ]
    }
   ],
   "source": [
    "users_df.info()"
   ]
  },
  {
   "cell_type": "code",
   "execution_count": 43,
   "metadata": {},
   "outputs": [
    {
     "name": "stdout",
     "output_type": "stream",
     "text": [
      "<class 'pandas.core.frame.DataFrame'>\n",
      "RangeIndex: 191 entries, 0 to 190\n",
      "Data columns (total 2 columns):\n",
      " #   Column  Non-Null Count  Dtype \n",
      "---  ------  --------------  ----- \n",
      " 0   tag     191 non-null    object\n",
      " 1   type    191 non-null    object\n",
      "dtypes: object(2)\n",
      "memory usage: 3.1+ KB\n"
     ]
    }
   ],
   "source": [
    "tags_df.info()"
   ]
  },
  {
   "cell_type": "markdown",
   "metadata": {},
   "source": [
    "# Data Preparation"
   ]
  },
  {
   "cell_type": "markdown",
   "metadata": {},
   "source": [
    "## Get Average Talents Rating"
   ]
  },
  {
   "cell_type": "markdown",
   "metadata": {},
   "source": [
    "### Joining DataFrames"
   ]
  },
  {
   "cell_type": "code",
   "execution_count": 44,
   "metadata": {},
   "outputs": [
    {
     "data": {
      "text/html": [
       "<div>\n",
       "<style scoped>\n",
       "    .dataframe tbody tr th:only-of-type {\n",
       "        vertical-align: middle;\n",
       "    }\n",
       "\n",
       "    .dataframe tbody tr th {\n",
       "        vertical-align: top;\n",
       "    }\n",
       "\n",
       "    .dataframe thead th {\n",
       "        text-align: right;\n",
       "    }\n",
       "</style>\n",
       "<table border=\"1\" class=\"dataframe\">\n",
       "  <thead>\n",
       "    <tr style=\"text-align: right;\">\n",
       "      <th></th>\n",
       "      <th>user_id</th>\n",
       "      <th>talent_id</th>\n",
       "      <th>rating</th>\n",
       "      <th>review</th>\n",
       "      <th>talent_name</th>\n",
       "      <th>talent_gender</th>\n",
       "      <th>talent_birth_date</th>\n",
       "      <th>talent_age</th>\n",
       "      <th>talent_location</th>\n",
       "      <th>talent_tags</th>\n",
       "      <th>talent_description</th>\n",
       "    </tr>\n",
       "  </thead>\n",
       "  <tbody>\n",
       "    <tr>\n",
       "      <th>0</th>\n",
       "      <td>5de6b455-0a80-4047-90e7-8ddee7ee2bb8</td>\n",
       "      <td>6742ab46-c8ca-4acc-99b2-9ba1c5bfccb6</td>\n",
       "      <td>4</td>\n",
       "      <td>Talent ini sangat kreatif dalam fotografi, has...</td>\n",
       "      <td>Muhammad Hamzah</td>\n",
       "      <td>L</td>\n",
       "      <td>21/12/1991</td>\n",
       "      <td>32</td>\n",
       "      <td>Sulawesi Utara, Kotamobagu</td>\n",
       "      <td>Ambisius|Editor|Kreatif|Fotografer|Kuliner</td>\n",
       "      <td>Fotografer yang mengkhususkan diri dalam fotog...</td>\n",
       "    </tr>\n",
       "    <tr>\n",
       "      <th>1</th>\n",
       "      <td>600687d6-bf67-406d-a50e-768e3d2dd53d</td>\n",
       "      <td>6742ab46-c8ca-4acc-99b2-9ba1c5bfccb6</td>\n",
       "      <td>3</td>\n",
       "      <td>Fotografer talent ini memiliki kemampuan yang ...</td>\n",
       "      <td>Muhammad Hamzah</td>\n",
       "      <td>L</td>\n",
       "      <td>21/12/1991</td>\n",
       "      <td>32</td>\n",
       "      <td>Sulawesi Utara, Kotamobagu</td>\n",
       "      <td>Ambisius|Editor|Kreatif|Fotografer|Kuliner</td>\n",
       "      <td>Fotografer yang mengkhususkan diri dalam fotog...</td>\n",
       "    </tr>\n",
       "    <tr>\n",
       "      <th>2</th>\n",
       "      <td>6a58a9cc-b016-4ff3-83d4-c41e735bf4df</td>\n",
       "      <td>6742ab46-c8ca-4acc-99b2-9ba1c5bfccb6</td>\n",
       "      <td>5</td>\n",
       "      <td>Talent ini memiliki keterampilan mendengarkan ...</td>\n",
       "      <td>Muhammad Hamzah</td>\n",
       "      <td>L</td>\n",
       "      <td>21/12/1991</td>\n",
       "      <td>32</td>\n",
       "      <td>Sulawesi Utara, Kotamobagu</td>\n",
       "      <td>Ambisius|Editor|Kreatif|Fotografer|Kuliner</td>\n",
       "      <td>Fotografer yang mengkhususkan diri dalam fotog...</td>\n",
       "    </tr>\n",
       "    <tr>\n",
       "      <th>3</th>\n",
       "      <td>e2f14ece-ed75-43a7-a57d-ee476a6cdceb</td>\n",
       "      <td>6742ab46-c8ca-4acc-99b2-9ba1c5bfccb6</td>\n",
       "      <td>4</td>\n",
       "      <td>Pengalaman wisata dengan talent ini sangat men...</td>\n",
       "      <td>Muhammad Hamzah</td>\n",
       "      <td>L</td>\n",
       "      <td>21/12/1991</td>\n",
       "      <td>32</td>\n",
       "      <td>Sulawesi Utara, Kotamobagu</td>\n",
       "      <td>Ambisius|Editor|Kreatif|Fotografer|Kuliner</td>\n",
       "      <td>Fotografer yang mengkhususkan diri dalam fotog...</td>\n",
       "    </tr>\n",
       "    <tr>\n",
       "      <th>4</th>\n",
       "      <td>6e1d2cf7-c56b-4b19-8b2b-4c1310a66d35</td>\n",
       "      <td>6742ab46-c8ca-4acc-99b2-9ba1c5bfccb6</td>\n",
       "      <td>3</td>\n",
       "      <td>Astrografi talent ini memberikan pengalaman ya...</td>\n",
       "      <td>Muhammad Hamzah</td>\n",
       "      <td>L</td>\n",
       "      <td>21/12/1991</td>\n",
       "      <td>32</td>\n",
       "      <td>Sulawesi Utara, Kotamobagu</td>\n",
       "      <td>Ambisius|Editor|Kreatif|Fotografer|Kuliner</td>\n",
       "      <td>Fotografer yang mengkhususkan diri dalam fotog...</td>\n",
       "    </tr>\n",
       "  </tbody>\n",
       "</table>\n",
       "</div>"
      ],
      "text/plain": [
       "                                user_id                             talent_id  \\\n",
       "0  5de6b455-0a80-4047-90e7-8ddee7ee2bb8  6742ab46-c8ca-4acc-99b2-9ba1c5bfccb6   \n",
       "1  600687d6-bf67-406d-a50e-768e3d2dd53d  6742ab46-c8ca-4acc-99b2-9ba1c5bfccb6   \n",
       "2  6a58a9cc-b016-4ff3-83d4-c41e735bf4df  6742ab46-c8ca-4acc-99b2-9ba1c5bfccb6   \n",
       "3  e2f14ece-ed75-43a7-a57d-ee476a6cdceb  6742ab46-c8ca-4acc-99b2-9ba1c5bfccb6   \n",
       "4  6e1d2cf7-c56b-4b19-8b2b-4c1310a66d35  6742ab46-c8ca-4acc-99b2-9ba1c5bfccb6   \n",
       "\n",
       "   rating                                             review      talent_name  \\\n",
       "0       4  Talent ini sangat kreatif dalam fotografi, has...  Muhammad Hamzah   \n",
       "1       3  Fotografer talent ini memiliki kemampuan yang ...  Muhammad Hamzah   \n",
       "2       5  Talent ini memiliki keterampilan mendengarkan ...  Muhammad Hamzah   \n",
       "3       4  Pengalaman wisata dengan talent ini sangat men...  Muhammad Hamzah   \n",
       "4       3  Astrografi talent ini memberikan pengalaman ya...  Muhammad Hamzah   \n",
       "\n",
       "  talent_gender talent_birth_date  talent_age             talent_location  \\\n",
       "0             L        21/12/1991          32  Sulawesi Utara, Kotamobagu   \n",
       "1             L        21/12/1991          32  Sulawesi Utara, Kotamobagu   \n",
       "2             L        21/12/1991          32  Sulawesi Utara, Kotamobagu   \n",
       "3             L        21/12/1991          32  Sulawesi Utara, Kotamobagu   \n",
       "4             L        21/12/1991          32  Sulawesi Utara, Kotamobagu   \n",
       "\n",
       "                                  talent_tags  \\\n",
       "0  Ambisius|Editor|Kreatif|Fotografer|Kuliner   \n",
       "1  Ambisius|Editor|Kreatif|Fotografer|Kuliner   \n",
       "2  Ambisius|Editor|Kreatif|Fotografer|Kuliner   \n",
       "3  Ambisius|Editor|Kreatif|Fotografer|Kuliner   \n",
       "4  Ambisius|Editor|Kreatif|Fotografer|Kuliner   \n",
       "\n",
       "                                  talent_description  \n",
       "0  Fotografer yang mengkhususkan diri dalam fotog...  \n",
       "1  Fotografer yang mengkhususkan diri dalam fotog...  \n",
       "2  Fotografer yang mengkhususkan diri dalam fotog...  \n",
       "3  Fotografer yang mengkhususkan diri dalam fotog...  \n",
       "4  Fotografer yang mengkhususkan diri dalam fotog...  "
      ]
     },
     "execution_count": 44,
     "metadata": {},
     "output_type": "execute_result"
    }
   ],
   "source": [
    "reviews_talents = pd.merge(reviews_df, talents_df, on='talent_id')\n",
    "reviews_talents.head()"
   ]
  },
  {
   "cell_type": "markdown",
   "metadata": {},
   "source": [
    "### Get Average Talents Rating"
   ]
  },
  {
   "cell_type": "code",
   "execution_count": 45,
   "metadata": {},
   "outputs": [
    {
     "data": {
      "text/plain": [
       "talent_id\n",
       "00627d20-528b-4c4e-92de-d97c12c151d1    5.000000\n",
       "011fc393-1411-49d2-8218-9dda2d8667c5    3.000000\n",
       "028b55d3-2c32-4410-a5e0-2c5526732f23    4.333333\n",
       "029b75a9-3275-4de9-b923-317b8baf7693    3.500000\n",
       "03d149b4-056b-4609-bc16-fc8bea09ff80    4.000000\n",
       "Name: rating, dtype: float64"
      ]
     },
     "execution_count": 45,
     "metadata": {},
     "output_type": "execute_result"
    }
   ],
   "source": [
    "talents_average_rating = reviews_talents.groupby('talent_id')['rating'].mean()\n",
    "talents_average_rating.head()"
   ]
  },
  {
   "cell_type": "markdown",
   "metadata": {},
   "source": [
    "### Add Average Talents Rating to Talent DataFrame"
   ]
  },
  {
   "cell_type": "code",
   "execution_count": 46,
   "metadata": {},
   "outputs": [
    {
     "data": {
      "text/html": [
       "<div>\n",
       "<style scoped>\n",
       "    .dataframe tbody tr th:only-of-type {\n",
       "        vertical-align: middle;\n",
       "    }\n",
       "\n",
       "    .dataframe tbody tr th {\n",
       "        vertical-align: top;\n",
       "    }\n",
       "\n",
       "    .dataframe thead th {\n",
       "        text-align: right;\n",
       "    }\n",
       "</style>\n",
       "<table border=\"1\" class=\"dataframe\">\n",
       "  <thead>\n",
       "    <tr style=\"text-align: right;\">\n",
       "      <th></th>\n",
       "      <th>talent_id</th>\n",
       "      <th>talent_name</th>\n",
       "      <th>talent_gender</th>\n",
       "      <th>talent_birth_date</th>\n",
       "      <th>talent_age</th>\n",
       "      <th>talent_location</th>\n",
       "      <th>talent_tags</th>\n",
       "      <th>talent_description</th>\n",
       "      <th>average_rating</th>\n",
       "    </tr>\n",
       "  </thead>\n",
       "  <tbody>\n",
       "    <tr>\n",
       "      <th>0</th>\n",
       "      <td>fc0f6e4b-c397-40a4-a24c-d08b92aedc45</td>\n",
       "      <td>Pribadi Anwar Wicaksono</td>\n",
       "      <td>L</td>\n",
       "      <td>24/4/1992</td>\n",
       "      <td>31</td>\n",
       "      <td>Banten, Cilegon</td>\n",
       "      <td>Badminton|Berjiwa petualang|Kpopers|Hiking|Ola...</td>\n",
       "      <td>Saya sangat menyukai Kpop, girlband favorit sa...</td>\n",
       "      <td>3.0</td>\n",
       "    </tr>\n",
       "    <tr>\n",
       "      <th>1</th>\n",
       "      <td>674c14d8-ed13-471a-aabf-ceef4e5bc44b</td>\n",
       "      <td>Perdana Anshari</td>\n",
       "      <td>L</td>\n",
       "      <td>10/3/2005</td>\n",
       "      <td>18</td>\n",
       "      <td>Kalimantan Utara, Tarakan</td>\n",
       "      <td>Desain|Inovatif|Optimis|Seniman|Kreatif</td>\n",
       "      <td>Saya adalah seorang seniman visual yang mencin...</td>\n",
       "      <td>4.0</td>\n",
       "    </tr>\n",
       "    <tr>\n",
       "      <th>2</th>\n",
       "      <td>f2427a83-eb72-47dd-aeaf-cf131b5cefa2</td>\n",
       "      <td>Dwi Nur Septasya Nahda</td>\n",
       "      <td>P</td>\n",
       "      <td>10/3/2002</td>\n",
       "      <td>21</td>\n",
       "      <td>Sumatera Selatan, Pagaralam</td>\n",
       "      <td>Petualangan|Bersepeda|Kutu buku|Traveling|Kuliner</td>\n",
       "      <td>Pecinta kuliner dan petualangan! Saya suka men...</td>\n",
       "      <td>5.0</td>\n",
       "    </tr>\n",
       "    <tr>\n",
       "      <th>3</th>\n",
       "      <td>ac56a04d-aa98-4591-8e8c-2b188040c114</td>\n",
       "      <td>Asmara Tamara Liranda</td>\n",
       "      <td>P</td>\n",
       "      <td>31/3/1992</td>\n",
       "      <td>31</td>\n",
       "      <td>Sumatera Barat, Lima Puluh Kota</td>\n",
       "      <td>Analitis|Coding|Inovatif|Teknologi|Programmer</td>\n",
       "      <td>Seorang pengembang perangkat lunak yang bersem...</td>\n",
       "      <td>5.0</td>\n",
       "    </tr>\n",
       "    <tr>\n",
       "      <th>4</th>\n",
       "      <td>d7a31753-7f7a-4d3a-80ec-bca26e578735</td>\n",
       "      <td>Adisyafitri Oky Septasya</td>\n",
       "      <td>P</td>\n",
       "      <td>12/7/1990</td>\n",
       "      <td>33</td>\n",
       "      <td>Kalimantan Timur, Samarinda</td>\n",
       "      <td>Ambisius|Membaca|Cerdas|Pengajar|Visioner</td>\n",
       "      <td>Pengajar bahasa Inggris yang juga pencinta lit...</td>\n",
       "      <td>4.5</td>\n",
       "    </tr>\n",
       "  </tbody>\n",
       "</table>\n",
       "</div>"
      ],
      "text/plain": [
       "                              talent_id               talent_name  \\\n",
       "0  fc0f6e4b-c397-40a4-a24c-d08b92aedc45   Pribadi Anwar Wicaksono   \n",
       "1  674c14d8-ed13-471a-aabf-ceef4e5bc44b           Perdana Anshari   \n",
       "2  f2427a83-eb72-47dd-aeaf-cf131b5cefa2    Dwi Nur Septasya Nahda   \n",
       "3  ac56a04d-aa98-4591-8e8c-2b188040c114     Asmara Tamara Liranda   \n",
       "4  d7a31753-7f7a-4d3a-80ec-bca26e578735  Adisyafitri Oky Septasya   \n",
       "\n",
       "  talent_gender talent_birth_date  talent_age  \\\n",
       "0             L         24/4/1992          31   \n",
       "1             L         10/3/2005          18   \n",
       "2             P         10/3/2002          21   \n",
       "3             P         31/3/1992          31   \n",
       "4             P         12/7/1990          33   \n",
       "\n",
       "                   talent_location  \\\n",
       "0                  Banten, Cilegon   \n",
       "1        Kalimantan Utara, Tarakan   \n",
       "2      Sumatera Selatan, Pagaralam   \n",
       "3  Sumatera Barat, Lima Puluh Kota   \n",
       "4      Kalimantan Timur, Samarinda   \n",
       "\n",
       "                                         talent_tags  \\\n",
       "0  Badminton|Berjiwa petualang|Kpopers|Hiking|Ola...   \n",
       "1            Desain|Inovatif|Optimis|Seniman|Kreatif   \n",
       "2  Petualangan|Bersepeda|Kutu buku|Traveling|Kuliner   \n",
       "3      Analitis|Coding|Inovatif|Teknologi|Programmer   \n",
       "4          Ambisius|Membaca|Cerdas|Pengajar|Visioner   \n",
       "\n",
       "                                  talent_description  average_rating  \n",
       "0  Saya sangat menyukai Kpop, girlband favorit sa...             3.0  \n",
       "1  Saya adalah seorang seniman visual yang mencin...             4.0  \n",
       "2  Pecinta kuliner dan petualangan! Saya suka men...             5.0  \n",
       "3  Seorang pengembang perangkat lunak yang bersem...             5.0  \n",
       "4  Pengajar bahasa Inggris yang juga pencinta lit...             4.5  "
      ]
     },
     "execution_count": 46,
     "metadata": {},
     "output_type": "execute_result"
    }
   ],
   "source": [
    "talents_df['average_rating'] = talents_average_rating[talents_df['talent_id']].to_numpy()\n",
    "talents_df.head()"
   ]
  },
  {
   "cell_type": "markdown",
   "metadata": {},
   "source": [
    "## Encoding Categorical Data (Talent Tags)"
   ]
  },
  {
   "cell_type": "markdown",
   "metadata": {},
   "source": [
    "### Get All Tags"
   ]
  },
  {
   "cell_type": "code",
   "execution_count": 47,
   "metadata": {},
   "outputs": [
    {
     "data": {
      "text/plain": [
       "(191, 1)"
      ]
     },
     "execution_count": 47,
     "metadata": {},
     "output_type": "execute_result"
    }
   ],
   "source": [
    "numpy_tags = tags_df['tag'].to_numpy().reshape(-1, 1)\n",
    "\n",
    "numpy_tags.shape"
   ]
  },
  {
   "cell_type": "markdown",
   "metadata": {},
   "source": [
    "### Fitting Tags to One Hot Encoder"
   ]
  },
  {
   "cell_type": "code",
   "execution_count": 48,
   "metadata": {},
   "outputs": [],
   "source": [
    "onehot_encoder = OneHotEncoder(sparse=False)\n",
    "\n",
    "onehot_encoded_tags = onehot_encoder.fit_transform(numpy_tags)"
   ]
  },
  {
   "cell_type": "markdown",
   "metadata": {},
   "source": [
    "### Transforming Talent Tags to One Hot Encoder"
   ]
  },
  {
   "cell_type": "code",
   "execution_count": 49,
   "metadata": {},
   "outputs": [
    {
     "data": {
      "text/plain": [
       "(509, 191)"
      ]
     },
     "execution_count": 49,
     "metadata": {},
     "output_type": "execute_result"
    }
   ],
   "source": [
    "onehot_encoded_talent_tags = []\n",
    "talent_tags = talents_df['talent_tags'].str.split('|').to_numpy()\n",
    "\n",
    "for talent_tag in talent_tags:\n",
    "    talent_tag = [tag for tag in talent_tag if tag != '']\n",
    "    talent_tag = np.array(talent_tag).reshape(-1, 1)\n",
    "\n",
    "    onehot_encoded_talent_tag = onehot_encoder.transform(talent_tag)\n",
    "    # combine the one hot encoded talent tags into one array\n",
    "    onehot_encoded_talent_tag = np.sum(onehot_encoded_talent_tag, axis=0)\n",
    "    onehot_encoded_talent_tags.append(onehot_encoded_talent_tag)\n",
    "\n",
    "onehot_encoded_talent_tags = np.array(onehot_encoded_talent_tags)\n",
    "\n",
    "onehot_encoded_talent_tags.shape"
   ]
  },
  {
   "cell_type": "markdown",
   "metadata": {},
   "source": [
    "### Testing One Hot Encoder"
   ]
  },
  {
   "cell_type": "code",
   "execution_count": 50,
   "metadata": {},
   "outputs": [
    {
     "name": "stdout",
     "output_type": "stream",
     "text": [
      "[0. 0. 0. 0. 0. 0. 0. 0. 0. 0. 0. 0. 0. 0. 0. 0. 0. 0. 0. 0. 0. 0. 0. 0.\n",
      " 0. 0. 0. 0. 0. 0. 1. 0. 0. 0. 0. 0. 0. 0. 0. 0. 0. 0. 0. 0. 0. 0. 0. 0.\n",
      " 0. 0. 0. 1. 0. 0. 0. 0. 0. 0. 0. 0. 0. 0. 0. 0. 0. 0. 0. 0. 0. 0. 0. 0.\n",
      " 0. 0. 0. 1. 0. 0. 0. 0. 0. 0. 0. 0. 0. 0. 0. 0. 0. 0. 0. 0. 0. 0. 0. 0.\n",
      " 0. 0. 0. 0. 0. 0. 0. 0. 1. 0. 0. 0. 0. 0. 0. 1. 0. 0. 0. 0. 0. 0. 0. 0.\n",
      " 0. 0. 0. 0. 0. 0. 0. 0. 0. 0. 0. 0. 0. 0. 0. 0. 0. 0. 0. 0. 0. 0. 0. 0.\n",
      " 0. 0. 0. 0. 0. 0. 0. 0. 0. 0. 0. 0. 0. 0. 0. 0. 0. 0. 0. 0. 0. 0. 0. 0.\n",
      " 0. 0. 0. 0. 0. 0. 0. 0. 0. 0. 0. 0. 0. 0. 0. 0. 0. 0. 0. 0. 0. 0. 0.]\n"
     ]
    }
   ],
   "source": [
    "user_1 = users_df.iloc[0]\n",
    "\n",
    "user_1_talent_tags = user_1['user_tags']\n",
    "\n",
    "user_1_talent_tags = [tag for tag in user_1_talent_tags.split('|') if tag != '']\n",
    "\n",
    "user_1_talent_tags = onehot_encoder.transform([[tag] for tag in user_1_talent_tags])\n",
    "\n",
    "user_1_talent_tags = np.sum(user_1_talent_tags, axis=0)\n",
    "\n",
    "print(user_1_talent_tags)"
   ]
  },
  {
   "cell_type": "markdown",
   "metadata": {},
   "source": [
    "# Modeling"
   ]
  },
  {
   "cell_type": "markdown",
   "metadata": {},
   "source": [
    "## SystemRecomendationModel"
   ]
  },
  {
   "cell_type": "code",
   "execution_count": 51,
   "metadata": {},
   "outputs": [],
   "source": [
    "class KMeansClusteringSystemRecommendations():\n",
    "    data_cluster = None\n",
    "    r_k =[]\n",
    "    data = np.array([])\n",
    "    wcss = []\n",
    "    elbow_point = 0\n",
    "    kmeans = None\n",
    "\n",
    "    def __init__(self, data):\n",
    "        self.data = np.copy(data)\n",
    "        self.r_k = np.arange(1, data.shape[0] + 1).tolist()\n",
    "\n",
    "    def evaluate(self, start=1, end=None):\n",
    "        if end == None:\n",
    "            end = self.data.shape[0] + 1\n",
    "\n",
    "        print(\"Evaluating kmeans for k = \" + str(start) + \" to k = \" + str(end))\n",
    "        for i in range(start, end):\n",
    "            kmeans = KMeans(n_clusters=i, init='k-means++', random_state=42, n_init=10)\n",
    "            kmeans.fit(self.data)\n",
    "            print(\"Fitting kmeans for k = \" + str(i) + \" with inertia = \" + str(kmeans.inertia_))\n",
    "            self.wcss.append(kmeans.inertia_)\n",
    "            if(kmeans.inertia_ == 0):\n",
    "                print(\"Inertia is 0, breaking loop\")\n",
    "                break\n",
    "        print(\"Evaluating kmeans for k = \" + str(start) + \" to k = \" + str(end) + \" completed\")\n",
    "\n",
    "    def find_elbow_point(self,start=0,end=-1, is_plot=False):\n",
    "        copy_rk = self.r_k.copy()\n",
    "        copy_wcss = self.wcss.copy()\n",
    "                \n",
    "        copy_rk = copy_rk[start:end]\n",
    "        copy_wcss = copy_wcss[start:end]\n",
    "\n",
    "        x1, y1 = copy_rk[0], copy_wcss[0]\n",
    "        x2, y2 = copy_rk[len(copy_rk)-1], copy_wcss[len(copy_wcss)-1]\n",
    "        distances = []\n",
    "        for i in range(len(copy_rk)):\n",
    "            x0 = copy_rk[i]\n",
    "            y0 = copy_wcss[i]\n",
    "            numerator = abs((y2-y1)*x0 - (x2-x1)*y0 + x2*y1 - y2*x1)\n",
    "            denominator = np.sqrt((y2 - y1)**2 + (x2 - x1)**2)\n",
    "            distances.append(numerator/denominator)\n",
    "        \n",
    "        if is_plot:\n",
    "            plt.plot(copy_rk, copy_wcss)\n",
    "            plt.plot([x1, x2], [y1, y2], '--')\n",
    "            plt.plot(copy_rk[distances.index(max(distances))], copy_wcss[distances.index(max(distances))], marker='o', markersize=10, label=\"Elbow\")\n",
    "            plt.xlabel('k')\n",
    "            plt.ylabel('wcss')\n",
    "\n",
    "        return distances.index(max(distances)) + 1\n",
    "\n",
    "    def train(self, k = elbow_point):\n",
    "        kmeans = KMeans(n_clusters=k, init='k-means++', random_state=42, n_init=10)\n",
    "        kmeans.fit(self.data)\n",
    "        self.kmeans = kmeans\n",
    "\n",
    "    def cluster_count(self):\n",
    "        self.data_cluster = self.kmeans.predict(self.data)\n",
    "        cluster_count = np.zeros(self.kmeans.n_clusters)\n",
    "        for i in range(len(self.data_cluster)):\n",
    "            cluster_count[self.data_cluster[i]] += 1\n",
    "        \n",
    "        return cluster_count\n",
    "\n",
    "    def plot_cluster(self):\n",
    "        pca = PCA(n_components=2)\n",
    "        pca.fit(self.data)\n",
    "        pca_data = pd.DataFrame(pca.transform(self.data))\n",
    "        plt.scatter(pca_data[0], pca_data[1], c=self.data_cluster, cmap='rainbow')\n",
    "\n",
    "    def predict(self, data):\n",
    "        return self.kmeans.predict(data)\n",
    "\n",
    "    def get_centroids(self):\n",
    "        return self.kmeans.cluster_centers_\n",
    "\n",
    "    def get_labels(self):\n",
    "        return self.kmeans.labels_\n",
    "\n",
    "    def get_inertia(self):\n",
    "        return self.kmeans.inertia_\n",
    "    \n",
    "    def get_kmeans(self):\n",
    "        return self.kmeans\n",
    "\n",
    "    def get_wcss(self):\n",
    "        return self.wcss\n",
    "\n",
    "    def get_r_k(self):\n",
    "        return self.r_k\n",
    "\n",
    "    def get_k(self):\n",
    "        return self.elbow_point\n",
    "\n",
    "    def get_data(self):\n",
    "        return self.data        "
   ]
  },
  {
   "cell_type": "markdown",
   "metadata": {},
   "source": [
    "### Initializing Model"
   ]
  },
  {
   "cell_type": "code",
   "execution_count": 52,
   "metadata": {},
   "outputs": [],
   "source": [
    "sys_rec = KMeansClusteringSystemRecommendations(onehot_encoded_talent_tags)\n"
   ]
  },
  {
   "cell_type": "markdown",
   "metadata": {},
   "source": [
    "# Evaluation (Elbow Method)"
   ]
  },
  {
   "cell_type": "markdown",
   "metadata": {},
   "source": [
    "### Fitting Model (Cluster with Every K Possible to Find the Best K Value)"
   ]
  },
  {
   "cell_type": "code",
   "execution_count": 53,
   "metadata": {},
   "outputs": [
    {
     "name": "stdout",
     "output_type": "stream",
     "text": [
      "Evaluating kmeans for k = 1 to k = 510\n",
      "Fitting kmeans for k = 1 with inertia = 2273.0687622789787\n"
     ]
    },
    {
     "name": "stdout",
     "output_type": "stream",
     "text": [
      "Fitting kmeans for k = 2 with inertia = 2108.1683826333283\n",
      "Fitting kmeans for k = 3 with inertia = 1973.9478981735738\n",
      "Fitting kmeans for k = 4 with inertia = 1906.6489771567356\n",
      "Fitting kmeans for k = 5 with inertia = 1844.1207954183712\n",
      "Fitting kmeans for k = 6 with inertia = 1792.320850827015\n",
      "Fitting kmeans for k = 7 with inertia = 1766.9864055062792\n",
      "Fitting kmeans for k = 8 with inertia = 1723.8818230353966\n",
      "Fitting kmeans for k = 9 with inertia = 1693.840809881356\n",
      "Fitting kmeans for k = 10 with inertia = 1667.4703866209966\n",
      "Fitting kmeans for k = 11 with inertia = 1649.9509059186034\n",
      "Fitting kmeans for k = 12 with inertia = 1625.3811920349876\n",
      "Fitting kmeans for k = 13 with inertia = 1602.5255067473847\n",
      "Fitting kmeans for k = 14 with inertia = 1594.1388852386299\n",
      "Fitting kmeans for k = 15 with inertia = 1577.3204399102444\n",
      "Fitting kmeans for k = 16 with inertia = 1561.730514882586\n",
      "Fitting kmeans for k = 17 with inertia = 1541.8858206674965\n",
      "Fitting kmeans for k = 18 with inertia = 1527.9672716980742\n",
      "Fitting kmeans for k = 19 with inertia = 1515.3073859541014\n",
      "Fitting kmeans for k = 20 with inertia = 1510.6638372946989\n",
      "Fitting kmeans for k = 21 with inertia = 1484.865504179889\n",
      "Fitting kmeans for k = 22 with inertia = 1474.7283270087403\n",
      "Fitting kmeans for k = 23 with inertia = 1478.5113314498253\n",
      "Fitting kmeans for k = 24 with inertia = 1463.0424015587093\n",
      "Fitting kmeans for k = 25 with inertia = 1445.2430783448062\n",
      "Fitting kmeans for k = 26 with inertia = 1432.6516492804024\n",
      "Fitting kmeans for k = 27 with inertia = 1434.8509563013795\n",
      "Fitting kmeans for k = 28 with inertia = 1413.4015595448072\n",
      "Fitting kmeans for k = 29 with inertia = 1408.5349272880542\n",
      "Fitting kmeans for k = 30 with inertia = 1406.0393724180876\n",
      "Fitting kmeans for k = 31 with inertia = 1377.3337011108158\n",
      "Fitting kmeans for k = 32 with inertia = 1381.3061948291356\n",
      "Fitting kmeans for k = 33 with inertia = 1374.3211066506742\n",
      "Fitting kmeans for k = 34 with inertia = 1366.9610774325606\n",
      "Fitting kmeans for k = 35 with inertia = 1364.580307615679\n",
      "Fitting kmeans for k = 36 with inertia = 1348.0706813677093\n",
      "Fitting kmeans for k = 37 with inertia = 1328.7345611066255\n",
      "Fitting kmeans for k = 38 with inertia = 1325.7132088241995\n",
      "Fitting kmeans for k = 39 with inertia = 1322.8042939330971\n",
      "Fitting kmeans for k = 40 with inertia = 1319.639922665166\n",
      "Fitting kmeans for k = 41 with inertia = 1314.749451909295\n",
      "Fitting kmeans for k = 42 with inertia = 1303.9889619944674\n",
      "Fitting kmeans for k = 43 with inertia = 1295.804923522818\n",
      "Fitting kmeans for k = 44 with inertia = 1303.832833854599\n",
      "Fitting kmeans for k = 45 with inertia = 1287.8312816715445\n",
      "Fitting kmeans for k = 46 with inertia = 1277.7889331171064\n",
      "Fitting kmeans for k = 47 with inertia = 1268.563788048971\n",
      "Fitting kmeans for k = 48 with inertia = 1261.6192860360925\n",
      "Fitting kmeans for k = 49 with inertia = 1259.811820491232\n",
      "Fitting kmeans for k = 50 with inertia = 1255.2148308371973\n",
      "Fitting kmeans for k = 51 with inertia = 1234.5131813576859\n",
      "Fitting kmeans for k = 52 with inertia = 1243.7767355991023\n",
      "Fitting kmeans for k = 53 with inertia = 1220.8340656305052\n",
      "Fitting kmeans for k = 54 with inertia = 1228.783237757075\n",
      "Fitting kmeans for k = 55 with inertia = 1221.0770525809519\n",
      "Fitting kmeans for k = 56 with inertia = 1226.5879233511585\n",
      "Fitting kmeans for k = 57 with inertia = 1217.381216822393\n",
      "Fitting kmeans for k = 58 with inertia = 1211.2199009813717\n",
      "Fitting kmeans for k = 59 with inertia = 1204.1359967918793\n",
      "Fitting kmeans for k = 60 with inertia = 1193.6287100068835\n",
      "Fitting kmeans for k = 61 with inertia = 1195.6934768803426\n",
      "Fitting kmeans for k = 62 with inertia = 1187.062536634905\n",
      "Fitting kmeans for k = 63 with inertia = 1180.8115358497712\n",
      "Fitting kmeans for k = 64 with inertia = 1174.1157515686928\n",
      "Fitting kmeans for k = 65 with inertia = 1170.8054800526195\n",
      "Fitting kmeans for k = 66 with inertia = 1165.5882201132201\n",
      "Fitting kmeans for k = 67 with inertia = 1156.4229548229548\n",
      "Fitting kmeans for k = 68 with inertia = 1145.2863820322898\n",
      "Fitting kmeans for k = 69 with inertia = 1146.9001025290504\n",
      "Fitting kmeans for k = 70 with inertia = 1138.8898212898212\n",
      "Fitting kmeans for k = 71 with inertia = 1130.4271952720483\n",
      "Fitting kmeans for k = 72 with inertia = 1135.9171019801456\n",
      "Fitting kmeans for k = 73 with inertia = 1120.5501845317633\n",
      "Fitting kmeans for k = 74 with inertia = 1125.6383799293242\n",
      "Fitting kmeans for k = 75 with inertia = 1119.1550806983446\n",
      "Fitting kmeans for k = 76 with inertia = 1102.8946164946165\n",
      "Fitting kmeans for k = 77 with inertia = 1104.758669108669\n",
      "Fitting kmeans for k = 78 with inertia = 1102.0586834733897\n",
      "Fitting kmeans for k = 79 with inertia = 1093.1448995448995\n",
      "Fitting kmeans for k = 80 with inertia = 1092.4959187976267\n",
      "Fitting kmeans for k = 81 with inertia = 1085.2298207640313\n",
      "Fitting kmeans for k = 82 with inertia = 1076.4545569789686\n",
      "Fitting kmeans for k = 83 with inertia = 1078.723520923521\n",
      "Fitting kmeans for k = 84 with inertia = 1069.1240696438065\n",
      "Fitting kmeans for k = 85 with inertia = 1066.705830835831\n",
      "Fitting kmeans for k = 86 with inertia = 1064.212362783415\n",
      "Fitting kmeans for k = 87 with inertia = 1057.6668599374482\n",
      "Fitting kmeans for k = 88 with inertia = 1049.4384347678467\n",
      "Fitting kmeans for k = 89 with inertia = 1046.8739532460927\n",
      "Fitting kmeans for k = 90 with inertia = 1044.267748917749\n",
      "Fitting kmeans for k = 91 with inertia = 1038.6932456432455\n",
      "Fitting kmeans for k = 92 with inertia = 1038.6283050283052\n",
      "Fitting kmeans for k = 93 with inertia = 1023.8039260739264\n",
      "Fitting kmeans for k = 94 with inertia = 1016.077076950037\n",
      "Fitting kmeans for k = 95 with inertia = 1020.556697006697\n",
      "Fitting kmeans for k = 96 with inertia = 1019.9238095238097\n",
      "Fitting kmeans for k = 97 with inertia = 1013.4632978132978\n",
      "Fitting kmeans for k = 98 with inertia = 1003.5074925074924\n",
      "Fitting kmeans for k = 99 with inertia = 996.3879584017515\n",
      "Fitting kmeans for k = 100 with inertia = 997.671534021534\n",
      "Fitting kmeans for k = 101 with inertia = 996.4290172684006\n",
      "Fitting kmeans for k = 102 with inertia = 987.20949153186\n",
      "Fitting kmeans for k = 103 with inertia = 980.6990981240978\n",
      "Fitting kmeans for k = 104 with inertia = 981.0929292929293\n",
      "Fitting kmeans for k = 105 with inertia = 974.5667610167607\n",
      "Fitting kmeans for k = 106 with inertia = 977.3323232323232\n",
      "Fitting kmeans for k = 107 with inertia = 961.545791953145\n",
      "Fitting kmeans for k = 108 with inertia = 967.3426788897377\n",
      "Fitting kmeans for k = 109 with inertia = 949.0665390165392\n",
      "Fitting kmeans for k = 110 with inertia = 954.7378787878788\n",
      "Fitting kmeans for k = 111 with inertia = 952.3708361083362\n",
      "Fitting kmeans for k = 112 with inertia = 941.4286102786102\n",
      "Fitting kmeans for k = 113 with inertia = 939.5102453102454\n",
      "Fitting kmeans for k = 114 with inertia = 932.1699134199135\n",
      "Fitting kmeans for k = 115 with inertia = 934.4186774578079\n",
      "Fitting kmeans for k = 116 with inertia = 930.9489430989432\n",
      "Fitting kmeans for k = 117 with inertia = 930.9472582972584\n",
      "Fitting kmeans for k = 118 with inertia = 924.1706349206349\n",
      "Fitting kmeans for k = 119 with inertia = 924.1423729527179\n",
      "Fitting kmeans for k = 120 with inertia = 910.216278166278\n",
      "Fitting kmeans for k = 121 with inertia = 910.2797313797314\n",
      "Fitting kmeans for k = 122 with inertia = 906.7623931623931\n",
      "Fitting kmeans for k = 123 with inertia = 891.7217986519845\n",
      "Fitting kmeans for k = 124 with inertia = 895.6246615703138\n",
      "Fitting kmeans for k = 125 with inertia = 885.9217359934753\n",
      "Fitting kmeans for k = 126 with inertia = 890.1513963161023\n",
      "Fitting kmeans for k = 127 with inertia = 884.382132246838\n",
      "Fitting kmeans for k = 128 with inertia = 877.6027044639948\n",
      "Fitting kmeans for k = 129 with inertia = 881.6594578792855\n",
      "Fitting kmeans for k = 130 with inertia = 872.1692466460269\n",
      "Fitting kmeans for k = 131 with inertia = 867.4282539682539\n",
      "Fitting kmeans for k = 132 with inertia = 867.1589384471737\n",
      "Fitting kmeans for k = 133 with inertia = 863.1122073267235\n",
      "Fitting kmeans for k = 134 with inertia = 857.2150072150073\n",
      "Fitting kmeans for k = 135 with inertia = 850.5680325665619\n",
      "Fitting kmeans for k = 136 with inertia = 850.6012145748988\n",
      "Fitting kmeans for k = 137 with inertia = 849.8492063492064\n",
      "Fitting kmeans for k = 138 with inertia = 841.4261904761904\n",
      "Fitting kmeans for k = 139 with inertia = 835.442850716535\n",
      "Fitting kmeans for k = 140 with inertia = 835.5399141088797\n",
      "Fitting kmeans for k = 141 with inertia = 830.3402346445826\n",
      "Fitting kmeans for k = 142 with inertia = 817.7058702791462\n",
      "Fitting kmeans for k = 143 with inertia = 828.2278166278167\n",
      "Fitting kmeans for k = 144 with inertia = 818.6981746031748\n",
      "Fitting kmeans for k = 145 with inertia = 810.2336652236653\n",
      "Fitting kmeans for k = 146 with inertia = 807.3258408258409\n",
      "Fitting kmeans for k = 147 with inertia = 803.822619047619\n",
      "Fitting kmeans for k = 148 with inertia = 802.5617243867242\n",
      "Fitting kmeans for k = 149 with inertia = 795.2031746031747\n",
      "Fitting kmeans for k = 150 with inertia = 795.6727323048825\n",
      "Fitting kmeans for k = 151 with inertia = 793.1472201001612\n",
      "Fitting kmeans for k = 152 with inertia = 785.5629148629149\n",
      "Fitting kmeans for k = 153 with inertia = 779.1760537707906\n",
      "Fitting kmeans for k = 154 with inertia = 780.9729751729751\n",
      "Fitting kmeans for k = 155 with inertia = 771.6738705738705\n",
      "Fitting kmeans for k = 156 with inertia = 765.0878510378509\n",
      "Fitting kmeans for k = 157 with inertia = 767.0305534334947\n",
      "Fitting kmeans for k = 158 with inertia = 762.0781724811137\n",
      "Fitting kmeans for k = 159 with inertia = 758.065873015873\n",
      "Fitting kmeans for k = 160 with inertia = 754.5171335200748\n",
      "Fitting kmeans for k = 161 with inertia = 751.2947368421053\n",
      "Fitting kmeans for k = 162 with inertia = 747.9575396825397\n",
      "Fitting kmeans for k = 163 with inertia = 739.1362110112109\n",
      "Fitting kmeans for k = 164 with inertia = 741.6242063492065\n",
      "Fitting kmeans for k = 165 with inertia = 737.2242063492065\n",
      "Fitting kmeans for k = 166 with inertia = 728.9464165464165\n",
      "Fitting kmeans for k = 167 with inertia = 729.0281732759993\n",
      "Fitting kmeans for k = 168 with inertia = 727.2242063492066\n",
      "Fitting kmeans for k = 169 with inertia = 720.6853535353536\n",
      "Fitting kmeans for k = 170 with inertia = 717.0186868686868\n",
      "Fitting kmeans for k = 171 with inertia = 710.5384615384615\n",
      "Fitting kmeans for k = 172 with inertia = 708.6666463166464\n",
      "Fitting kmeans for k = 173 with inertia = 708.5571428571428\n",
      "Fitting kmeans for k = 174 with inertia = 703.8783549783549\n",
      "Fitting kmeans for k = 175 with inertia = 700.1675324675323\n",
      "Fitting kmeans for k = 176 with inertia = 695.8176046176045\n",
      "Fitting kmeans for k = 177 with inertia = 695.9103896103898\n",
      "Fitting kmeans for k = 178 with inertia = 690.6008075258077\n",
      "Fitting kmeans for k = 179 with inertia = 683.1700854700853\n",
      "Fitting kmeans for k = 180 with inertia = 681.0300199800201\n",
      "Fitting kmeans for k = 181 with inertia = 682.1770562770564\n",
      "Fitting kmeans for k = 182 with inertia = 677.0912698412699\n",
      "Fitting kmeans for k = 183 with inertia = 673.985185185185\n",
      "Fitting kmeans for k = 184 with inertia = 669.2305916305917\n",
      "Fitting kmeans for k = 185 with inertia = 666.5083028083027\n",
      "Fitting kmeans for k = 186 with inertia = 656.3076312576312\n",
      "Fitting kmeans for k = 187 with inertia = 662.1880952380952\n",
      "Fitting kmeans for k = 188 with inertia = 658.0008742891097\n",
      "Fitting kmeans for k = 189 with inertia = 646.8309523809525\n",
      "Fitting kmeans for k = 190 with inertia = 649.9809523809523\n",
      "Fitting kmeans for k = 191 with inertia = 639.554578754579\n",
      "Fitting kmeans for k = 192 with inertia = 644.9213595583162\n",
      "Fitting kmeans for k = 193 with inertia = 641.3093277310926\n",
      "Fitting kmeans for k = 194 with inertia = 636.234126984127\n",
      "Fitting kmeans for k = 195 with inertia = 632.9221933621933\n",
      "Fitting kmeans for k = 196 with inertia = 623.0575091575092\n",
      "Fitting kmeans for k = 197 with inertia = 628.0415622389306\n",
      "Fitting kmeans for k = 198 with inertia = 619.5693581780539\n",
      "Fitting kmeans for k = 199 with inertia = 621.3692891649413\n",
      "Fitting kmeans for k = 200 with inertia = 612.5277777777778\n",
      "Fitting kmeans for k = 201 with inertia = 612.6699008720748\n",
      "Fitting kmeans for k = 202 with inertia = 608.6849206349208\n",
      "Fitting kmeans for k = 203 with inertia = 608.6668831168831\n",
      "Fitting kmeans for k = 204 with inertia = 601.6888888888889\n",
      "Fitting kmeans for k = 205 with inertia = 596.8623944682769\n",
      "Fitting kmeans for k = 206 with inertia = 597.3380952380953\n",
      "Fitting kmeans for k = 207 with inertia = 589.0162698412701\n",
      "Fitting kmeans for k = 208 with inertia = 587.545238095238\n",
      "Fitting kmeans for k = 209 with inertia = 585.8727272727272\n",
      "Fitting kmeans for k = 210 with inertia = 584.5592592592593\n",
      "Fitting kmeans for k = 211 with inertia = 579.2123096202042\n",
      "Fitting kmeans for k = 212 with inertia = 567.6726708074534\n",
      "Fitting kmeans for k = 213 with inertia = 574.4777777777778\n",
      "Fitting kmeans for k = 214 with inertia = 572.0952380952381\n",
      "Fitting kmeans for k = 215 with inertia = 564.5191919191919\n",
      "Fitting kmeans for k = 216 with inertia = 564.4654135338346\n",
      "Fitting kmeans for k = 217 with inertia = 566.7474025974026\n",
      "Fitting kmeans for k = 218 with inertia = 560.7261904761905\n",
      "Fitting kmeans for k = 219 with inertia = 558.017048637637\n",
      "Fitting kmeans for k = 220 with inertia = 553.8721804511279\n",
      "Fitting kmeans for k = 221 with inertia = 542.6587301587301\n",
      "Fitting kmeans for k = 222 with inertia = 549.6078643578643\n",
      "Fitting kmeans for k = 223 with inertia = 547.5557422969188\n",
      "Fitting kmeans for k = 224 with inertia = 542.3304761904762\n",
      "Fitting kmeans for k = 225 with inertia = 542.0703463203463\n",
      "Fitting kmeans for k = 226 with inertia = 539.5063492063492\n",
      "Fitting kmeans for k = 227 with inertia = 536.5727652464494\n",
      "Fitting kmeans for k = 228 with inertia = 531.2025366446419\n",
      "Fitting kmeans for k = 229 with inertia = 526.7398268398268\n",
      "Fitting kmeans for k = 230 with inertia = 521.2945887445886\n",
      "Fitting kmeans for k = 231 with inertia = 519.432683982684\n",
      "Fitting kmeans for k = 232 with inertia = 519.1571428571428\n",
      "Fitting kmeans for k = 233 with inertia = 518.3551378446116\n",
      "Fitting kmeans for k = 234 with inertia = 510.63674136321185\n",
      "Fitting kmeans for k = 235 with inertia = 513.1980519480519\n",
      "Fitting kmeans for k = 236 with inertia = 504.9116959064327\n",
      "Fitting kmeans for k = 237 with inertia = 508.2140692640694\n",
      "Fitting kmeans for k = 238 with inertia = 503.69999999999993\n",
      "Fitting kmeans for k = 239 with inertia = 501.5673881673882\n",
      "Fitting kmeans for k = 240 with inertia = 497.72539682539684\n",
      "Fitting kmeans for k = 241 with inertia = 495.6714285714285\n",
      "Fitting kmeans for k = 242 with inertia = 484.70812324929966\n",
      "Fitting kmeans for k = 243 with inertia = 494.3884825700615\n",
      "Fitting kmeans for k = 244 with inertia = 485.76969696969695\n",
      "Fitting kmeans for k = 245 with inertia = 482.23721804511274\n",
      "Fitting kmeans for k = 246 with inertia = 483.4128205128205\n",
      "Fitting kmeans for k = 247 with inertia = 477.14761904761906\n",
      "Fitting kmeans for k = 248 with inertia = 465.640056022409\n",
      "Fitting kmeans for k = 249 with inertia = 474.2662907268171\n",
      "Fitting kmeans for k = 250 with inertia = 468.80000000000007\n",
      "Fitting kmeans for k = 251 with inertia = 463.5422222222223\n",
      "Fitting kmeans for k = 252 with inertia = 463.3222222222223\n",
      "Fitting kmeans for k = 253 with inertia = 457.31333333333333\n",
      "Fitting kmeans for k = 254 with inertia = 455.86017316017313\n",
      "Fitting kmeans for k = 255 with inertia = 455.10643274853794\n",
      "Fitting kmeans for k = 256 with inertia = 453.2277777777778\n",
      "Fitting kmeans for k = 257 with inertia = 447.8311594202898\n",
      "Fitting kmeans for k = 258 with inertia = 450.7686274509805\n",
      "Fitting kmeans for k = 259 with inertia = 446.95367965367967\n",
      "Fitting kmeans for k = 260 with inertia = 447.8031746031747\n",
      "Fitting kmeans for k = 261 with inertia = 439.45\n",
      "Fitting kmeans for k = 262 with inertia = 439.83333333333337\n",
      "Fitting kmeans for k = 263 with inertia = 436.26666666666677\n",
      "Fitting kmeans for k = 264 with inertia = 433.2345238095238\n",
      "Fitting kmeans for k = 265 with inertia = 427.50336134453784\n",
      "Fitting kmeans for k = 266 with inertia = 430.7341687552215\n",
      "Fitting kmeans for k = 267 with inertia = 425.13968253968255\n",
      "Fitting kmeans for k = 268 with inertia = 420.8036630036631\n",
      "Fitting kmeans for k = 269 with inertia = 420.1000000000001\n",
      "Fitting kmeans for k = 270 with inertia = 422.41111111111115\n",
      "Fitting kmeans for k = 271 with inertia = 416.7969696969697\n",
      "Fitting kmeans for k = 272 with inertia = 414.3954887218045\n",
      "Fitting kmeans for k = 273 with inertia = 412.41309523809525\n",
      "Fitting kmeans for k = 274 with inertia = 409.3337474120082\n",
      "Fitting kmeans for k = 275 with inertia = 403.2928571428571\n",
      "Fitting kmeans for k = 276 with inertia = 402.1372549019608\n",
      "Fitting kmeans for k = 277 with inertia = 403.3666666666667\n",
      "Fitting kmeans for k = 278 with inertia = 395.54920634920626\n",
      "Fitting kmeans for k = 279 with inertia = 393.95490196078435\n",
      "Fitting kmeans for k = 280 with inertia = 388.4666666666667\n",
      "Fitting kmeans for k = 281 with inertia = 386.4179271708684\n",
      "Fitting kmeans for k = 282 with inertia = 389.1474789915967\n",
      "Fitting kmeans for k = 283 with inertia = 385.8809523809523\n",
      "Fitting kmeans for k = 284 with inertia = 382.28860877684417\n",
      "Fitting kmeans for k = 285 with inertia = 375.9424242424242\n",
      "Fitting kmeans for k = 286 with inertia = 380.49444444444447\n",
      "Fitting kmeans for k = 287 with inertia = 374.50980392156856\n",
      "Fitting kmeans for k = 288 with inertia = 372.64603174603184\n",
      "Fitting kmeans for k = 289 with inertia = 367.23333333333335\n",
      "Fitting kmeans for k = 290 with inertia = 368.21820728291317\n",
      "Fitting kmeans for k = 291 with inertia = 367.5174603174603\n",
      "Fitting kmeans for k = 292 with inertia = 357.00833333333327\n",
      "Fitting kmeans for k = 293 with inertia = 359.73333333333323\n",
      "Fitting kmeans for k = 294 with inertia = 357.3253968253968\n",
      "Fitting kmeans for k = 295 with inertia = 357.1279220779221\n",
      "Fitting kmeans for k = 296 with inertia = 355.822035480859\n",
      "Fitting kmeans for k = 297 with inertia = 352.1912280701754\n",
      "Fitting kmeans for k = 298 with inertia = 347.6571428571429\n",
      "Fitting kmeans for k = 299 with inertia = 346.97142857142853\n",
      "Fitting kmeans for k = 300 with inertia = 346.10952380952386\n",
      "Fitting kmeans for k = 301 with inertia = 344.30158730158735\n",
      "Fitting kmeans for k = 302 with inertia = 339.51666666666677\n",
      "Fitting kmeans for k = 303 with inertia = 336.93972431077697\n",
      "Fitting kmeans for k = 304 with inertia = 333.25714285714287\n",
      "Fitting kmeans for k = 305 with inertia = 331.59285714285716\n",
      "Fitting kmeans for k = 306 with inertia = 325.9238095238095\n",
      "Fitting kmeans for k = 307 with inertia = 327.2943977591036\n",
      "Fitting kmeans for k = 308 with inertia = 323.5690476190477\n",
      "Fitting kmeans for k = 309 with inertia = 322.06176470588235\n",
      "Fitting kmeans for k = 310 with inertia = 314.7666666666667\n",
      "Fitting kmeans for k = 311 with inertia = 314.3238095238096\n",
      "Fitting kmeans for k = 312 with inertia = 315.68263305322137\n",
      "Fitting kmeans for k = 313 with inertia = 310.16340852130327\n",
      "Fitting kmeans for k = 314 with inertia = 312.23859649122807\n",
      "Fitting kmeans for k = 315 with inertia = 310.6333333333334\n",
      "Fitting kmeans for k = 316 with inertia = 303.852380952381\n",
      "Fitting kmeans for k = 317 with inertia = 306.4532212885154\n",
      "Fitting kmeans for k = 318 with inertia = 300.29999999999995\n",
      "Fitting kmeans for k = 319 with inertia = 297.60196078431375\n",
      "Fitting kmeans for k = 320 with inertia = 295.4705882352942\n",
      "Fitting kmeans for k = 321 with inertia = 291.13095238095235\n",
      "Fitting kmeans for k = 322 with inertia = 292.0797619047619\n",
      "Fitting kmeans for k = 323 with inertia = 286.50000000000006\n",
      "Fitting kmeans for k = 324 with inertia = 283.33076923076925\n",
      "Fitting kmeans for k = 325 with inertia = 283.6063492063492\n",
      "Fitting kmeans for k = 326 with inertia = 280.6333333333333\n",
      "Fitting kmeans for k = 327 with inertia = 275.71428571428584\n",
      "Fitting kmeans for k = 328 with inertia = 277.9654970760233\n",
      "Fitting kmeans for k = 329 with inertia = 270.32222222222225\n",
      "Fitting kmeans for k = 330 with inertia = 272.7476190476191\n",
      "Fitting kmeans for k = 331 with inertia = 268.49271708683483\n",
      "Fitting kmeans for k = 332 with inertia = 259.1090909090909\n",
      "Fitting kmeans for k = 333 with inertia = 261.3329004329005\n",
      "Fitting kmeans for k = 334 with inertia = 262.1333333333333\n",
      "Fitting kmeans for k = 335 with inertia = 258.6000000000001\n",
      "Fitting kmeans for k = 336 with inertia = 253.68571428571437\n",
      "Fitting kmeans for k = 337 with inertia = 255.76666666666665\n",
      "Fitting kmeans for k = 338 with inertia = 250.30000000000007\n",
      "Fitting kmeans for k = 339 with inertia = 250.0641025641026\n",
      "Fitting kmeans for k = 340 with inertia = 245.41904761904763\n",
      "Fitting kmeans for k = 341 with inertia = 243.7590909090909\n",
      "Fitting kmeans for k = 342 with inertia = 244.52051282051283\n",
      "Fitting kmeans for k = 343 with inertia = 239.63333333333333\n",
      "Fitting kmeans for k = 344 with inertia = 237.16410256410254\n",
      "Fitting kmeans for k = 345 with inertia = 234.70000000000002\n",
      "Fitting kmeans for k = 346 with inertia = 232.7\n",
      "Fitting kmeans for k = 347 with inertia = 232.4666666666667\n",
      "Fitting kmeans for k = 348 with inertia = 227.93076923076927\n",
      "Fitting kmeans for k = 349 with inertia = 223.9769230769231\n",
      "Fitting kmeans for k = 350 with inertia = 223.3333333333334\n",
      "Fitting kmeans for k = 351 with inertia = 222.47619047619048\n",
      "Fitting kmeans for k = 352 with inertia = 218.3047619047619\n",
      "Fitting kmeans for k = 353 with inertia = 216.94761904761904\n",
      "Fitting kmeans for k = 354 with inertia = 217.92857142857147\n",
      "Fitting kmeans for k = 355 with inertia = 211.7083333333333\n",
      "Fitting kmeans for k = 356 with inertia = 209.97301587301587\n",
      "Fitting kmeans for k = 357 with inertia = 209.39444444444442\n",
      "Fitting kmeans for k = 358 with inertia = 205.3330532212885\n",
      "Fitting kmeans for k = 359 with inertia = 204.03333333333336\n",
      "Fitting kmeans for k = 360 with inertia = 201.26666666666665\n",
      "Fitting kmeans for k = 361 with inertia = 199.13333333333335\n",
      "Fitting kmeans for k = 362 with inertia = 192.57619047619048\n",
      "Fitting kmeans for k = 363 with inertia = 194.67575757575756\n",
      "Fitting kmeans for k = 364 with inertia = 192.0190476190476\n",
      "Fitting kmeans for k = 365 with inertia = 187.02857142857138\n",
      "Fitting kmeans for k = 366 with inertia = 186.44188034188036\n",
      "Fitting kmeans for k = 367 with inertia = 186.64029304029307\n",
      "Fitting kmeans for k = 368 with inertia = 182.89523809523814\n",
      "Fitting kmeans for k = 369 with inertia = 184.33452380952383\n",
      "Fitting kmeans for k = 370 with inertia = 176.93333333333337\n",
      "Fitting kmeans for k = 371 with inertia = 177.16666666666669\n",
      "Fitting kmeans for k = 372 with inertia = 172.0307692307692\n",
      "Fitting kmeans for k = 373 with inertia = 172.80952380952377\n",
      "Fitting kmeans for k = 374 with inertia = 165.7619047619048\n",
      "Fitting kmeans for k = 375 with inertia = 166.13333333333335\n",
      "Fitting kmeans for k = 376 with inertia = 164.2333333333333\n",
      "Fitting kmeans for k = 377 with inertia = 160.06410256410257\n",
      "Fitting kmeans for k = 378 with inertia = 160.89523809523808\n",
      "Fitting kmeans for k = 379 with inertia = 158.63333333333338\n",
      "Fitting kmeans for k = 380 with inertia = 154.1\n",
      "Fitting kmeans for k = 381 with inertia = 157.36666666666667\n",
      "Fitting kmeans for k = 382 with inertia = 152.2\n",
      "Fitting kmeans for k = 383 with inertia = 152.12857142857143\n",
      "Fitting kmeans for k = 384 with inertia = 148.74358974358975\n",
      "Fitting kmeans for k = 385 with inertia = 146.56410256410254\n",
      "Fitting kmeans for k = 386 with inertia = 143.72857142857143\n",
      "Fitting kmeans for k = 387 with inertia = 141.825\n",
      "Fitting kmeans for k = 388 with inertia = 139.6641025641026\n",
      "Fitting kmeans for k = 389 with inertia = 133.74358974358972\n",
      "Fitting kmeans for k = 390 with inertia = 133.7619047619048\n",
      "Fitting kmeans for k = 391 with inertia = 132.13076923076923\n",
      "Fitting kmeans for k = 392 with inertia = 130.86410256410255\n",
      "Fitting kmeans for k = 393 with inertia = 131.32857142857142\n",
      "Fitting kmeans for k = 394 with inertia = 129.84242424242424\n",
      "Fitting kmeans for k = 395 with inertia = 127.26190476190477\n",
      "Fitting kmeans for k = 396 with inertia = 125.04102564102564\n",
      "Fitting kmeans for k = 397 with inertia = 119.46190476190476\n",
      "Fitting kmeans for k = 398 with inertia = 120.10000000000001\n",
      "Fitting kmeans for k = 399 with inertia = 116.90952380952379\n",
      "Fitting kmeans for k = 400 with inertia = 114.49523809523808\n",
      "Fitting kmeans for k = 401 with inertia = 112.13333333333334\n",
      "Fitting kmeans for k = 402 with inertia = 111.73333333333333\n",
      "Fitting kmeans for k = 403 with inertia = 110.73333333333333\n",
      "Fitting kmeans for k = 404 with inertia = 109.36410256410255\n",
      "Fitting kmeans for k = 405 with inertia = 105.96666666666667\n",
      "Fitting kmeans for k = 406 with inertia = 106.24242424242425\n",
      "Fitting kmeans for k = 407 with inertia = 105.83333333333334\n",
      "Fitting kmeans for k = 408 with inertia = 102.3974358974359\n",
      "Fitting kmeans for k = 409 with inertia = 103.19999999999999\n",
      "Fitting kmeans for k = 410 with inertia = 101.83333333333334\n",
      "Fitting kmeans for k = 411 with inertia = 95.76666666666665\n",
      "Fitting kmeans for k = 412 with inertia = 97.52857142857144\n",
      "Fitting kmeans for k = 413 with inertia = 94.23333333333335\n",
      "Fitting kmeans for k = 414 with inertia = 95.16666666666667\n",
      "Fitting kmeans for k = 415 with inertia = 92.3\n",
      "Fitting kmeans for k = 416 with inertia = 89.16666666666669\n",
      "Fitting kmeans for k = 417 with inertia = 90.43333333333334\n",
      "Fitting kmeans for k = 418 with inertia = 89.39393939393938\n",
      "Fitting kmeans for k = 419 with inertia = 88.07575757575758\n",
      "Fitting kmeans for k = 420 with inertia = 85.74242424242424\n",
      "Fitting kmeans for k = 421 with inertia = 86.33333333333333\n",
      "Fitting kmeans for k = 422 with inertia = 85.00000000000001\n",
      "Fitting kmeans for k = 423 with inertia = 83.2090909090909\n",
      "Fitting kmeans for k = 424 with inertia = 81.65384615384617\n",
      "Fitting kmeans for k = 425 with inertia = 81.7\n",
      "Fitting kmeans for k = 426 with inertia = 80.13333333333334\n",
      "Fitting kmeans for k = 427 with inertia = 78.76666666666668\n",
      "Fitting kmeans for k = 428 with inertia = 75.8\n",
      "Fitting kmeans for k = 429 with inertia = 76.76666666666667\n",
      "Fitting kmeans for k = 430 with inertia = 74.66666666666667\n",
      "Fitting kmeans for k = 431 with inertia = 72.19047619047619\n",
      "Fitting kmeans for k = 432 with inertia = 70.16666666666666\n",
      "Fitting kmeans for k = 433 with inertia = 71.3\n",
      "Fitting kmeans for k = 434 with inertia = 67.83333333333333\n",
      "Fitting kmeans for k = 435 with inertia = 68.4090909090909\n",
      "Fitting kmeans for k = 436 with inertia = 66.8\n",
      "Fitting kmeans for k = 437 with inertia = 68.42424242424241\n",
      "Fitting kmeans for k = 438 with inertia = 64.43333333333334\n",
      "Fitting kmeans for k = 439 with inertia = 63.79999999999999\n",
      "Fitting kmeans for k = 440 with inertia = 61.63333333333333\n",
      "Fitting kmeans for k = 441 with inertia = 60.16666666666667\n",
      "Fitting kmeans for k = 442 with inertia = 60.409090909090914\n",
      "Fitting kmeans for k = 443 with inertia = 59.72222222222222\n",
      "Fitting kmeans for k = 444 with inertia = 57.13333333333333\n",
      "Fitting kmeans for k = 445 with inertia = 57.666666666666664\n",
      "Fitting kmeans for k = 446 with inertia = 55.00000000000001\n",
      "Fitting kmeans for k = 447 with inertia = 55.30000000000001\n",
      "Fitting kmeans for k = 448 with inertia = 54.75\n",
      "Fitting kmeans for k = 449 with inertia = 52.555555555555564\n",
      "Fitting kmeans for k = 450 with inertia = 52.0\n",
      "Fitting kmeans for k = 451 with inertia = 49.95238095238095\n",
      "Fitting kmeans for k = 452 with inertia = 49.333333333333336\n",
      "Fitting kmeans for k = 453 with inertia = 46.83333333333333\n",
      "Fitting kmeans for k = 454 with inertia = 45.5\n",
      "Fitting kmeans for k = 455 with inertia = 46.41666666666666\n",
      "Fitting kmeans for k = 456 with inertia = 45.85714285714286\n",
      "Fitting kmeans for k = 457 with inertia = 43.857142857142854\n",
      "Fitting kmeans for k = 458 with inertia = 43.08333333333333\n",
      "Fitting kmeans for k = 459 with inertia = 42.00000000000001\n",
      "Fitting kmeans for k = 460 with inertia = 39.88888888888889\n",
      "Fitting kmeans for k = 461 with inertia = 38.333333333333336\n",
      "Fitting kmeans for k = 462 with inertia = 37.16666666666666\n",
      "Fitting kmeans for k = 463 with inertia = 37.285714285714285\n",
      "Fitting kmeans for k = 464 with inertia = 36.416666666666664\n",
      "Fitting kmeans for k = 465 with inertia = 34.52380952380953\n",
      "Fitting kmeans for k = 466 with inertia = 33.916666666666664\n",
      "Fitting kmeans for k = 467 with inertia = 32.523809523809526\n",
      "Fitting kmeans for k = 468 with inertia = 31.1\n",
      "Fitting kmeans for k = 469 with inertia = 30.83333333333333\n",
      "Fitting kmeans for k = 470 with inertia = 28.833333333333336\n",
      "Fitting kmeans for k = 471 with inertia = 27.766666666666666\n",
      "Fitting kmeans for k = 472 with inertia = 26.166666666666668\n",
      "Fitting kmeans for k = 473 with inertia = 26.099999999999998\n",
      "Fitting kmeans for k = 474 with inertia = 25.5\n",
      "Fitting kmeans for k = 475 with inertia = 24.166666666666668\n",
      "Fitting kmeans for k = 476 with inertia = 21.6\n",
      "Fitting kmeans for k = 477 with inertia = 22.166666666666668\n",
      "Fitting kmeans for k = 478 with inertia = 19.666666666666664\n",
      "Fitting kmeans for k = 479 with inertia = 19.333333333333332\n",
      "Fitting kmeans for k = 480 with inertia = 18.099999999999998\n",
      "Fitting kmeans for k = 481 with inertia = 16.5\n",
      "Fitting kmeans for k = 482 with inertia = 16.6\n",
      "Fitting kmeans for k = 483 with inertia = 14.933333333333332\n",
      "Fitting kmeans for k = 484 with inertia = 13.833333333333334\n",
      "Fitting kmeans for k = 485 with inertia = 12.0\n",
      "Fitting kmeans for k = 486 with inertia = 11.333333333333334\n",
      "Fitting kmeans for k = 487 with inertia = 10.0\n",
      "Fitting kmeans for k = 488 with inertia = 9.933333333333334\n",
      "Fitting kmeans for k = 489 with inertia = 8.0\n",
      "Fitting kmeans for k = 490 with inertia = 7.5\n",
      "Fitting kmeans for k = 491 with inertia = 6.333333333333334\n",
      "Fitting kmeans for k = 492 with inertia = 5.333333333333334\n",
      "Fitting kmeans for k = 493 with inertia = 4.0\n",
      "Fitting kmeans for k = 494 with inertia = 3.0\n",
      "Fitting kmeans for k = 495 with inertia = 2.0\n",
      "Fitting kmeans for k = 496 with inertia = 1.0\n",
      "Fitting kmeans for k = 497 with inertia = 1.5878032261528678e-31\n",
      "Fitting kmeans for k = 498 with inertia = 0.0\n",
      "Inertia is 0, breaking loop\n",
      "Evaluating kmeans for k = 1 to k = 510 completed\n"
     ]
    }
   ],
   "source": [
    "sys_rec.evaluate()"
   ]
  },
  {
   "cell_type": "markdown",
   "metadata": {},
   "source": [
    "### Find Kmeans Elbow Score"
   ]
  },
  {
   "cell_type": "code",
   "execution_count": 54,
   "metadata": {},
   "outputs": [
    {
     "ename": "IndexError",
     "evalue": "list index out of range",
     "output_type": "error",
     "traceback": [
      "\u001b[1;31m---------------------------------------------------------------------------\u001b[0m",
      "\u001b[1;31mIndexError\u001b[0m                                Traceback (most recent call last)",
      "Cell \u001b[1;32mIn[54], line 1\u001b[0m\n\u001b[1;32m----> 1\u001b[0m k \u001b[38;5;241m=\u001b[39m \u001b[43msys_rec\u001b[49m\u001b[38;5;241;43m.\u001b[39;49m\u001b[43mfind_elbow_point\u001b[49m\u001b[43m(\u001b[49m\u001b[43mis_plot\u001b[49m\u001b[38;5;241;43m=\u001b[39;49m\u001b[38;5;28;43;01mTrue\u001b[39;49;00m\u001b[43m)\u001b[49m\n",
      "Cell \u001b[1;32mIn[51], line 40\u001b[0m, in \u001b[0;36mKMeansClusteringSystemRecommendations.find_elbow_point\u001b[1;34m(self, start, end, is_plot)\u001b[0m\n\u001b[0;32m     38\u001b[0m \u001b[38;5;28;01mfor\u001b[39;00m i \u001b[38;5;129;01min\u001b[39;00m \u001b[38;5;28mrange\u001b[39m(\u001b[38;5;28mlen\u001b[39m(copy_rk)):\n\u001b[0;32m     39\u001b[0m     x0 \u001b[38;5;241m=\u001b[39m copy_rk[i]\n\u001b[1;32m---> 40\u001b[0m     y0 \u001b[38;5;241m=\u001b[39m \u001b[43mcopy_wcss\u001b[49m\u001b[43m[\u001b[49m\u001b[43mi\u001b[49m\u001b[43m]\u001b[49m\n\u001b[0;32m     41\u001b[0m     numerator \u001b[38;5;241m=\u001b[39m \u001b[38;5;28mabs\u001b[39m((y2\u001b[38;5;241m-\u001b[39my1)\u001b[38;5;241m*\u001b[39mx0 \u001b[38;5;241m-\u001b[39m (x2\u001b[38;5;241m-\u001b[39mx1)\u001b[38;5;241m*\u001b[39my0 \u001b[38;5;241m+\u001b[39m x2\u001b[38;5;241m*\u001b[39my1 \u001b[38;5;241m-\u001b[39m y2\u001b[38;5;241m*\u001b[39mx1)\n\u001b[0;32m     42\u001b[0m     denominator \u001b[38;5;241m=\u001b[39m np\u001b[38;5;241m.\u001b[39msqrt((y2 \u001b[38;5;241m-\u001b[39m y1)\u001b[38;5;241m*\u001b[39m\u001b[38;5;241m*\u001b[39m\u001b[38;5;241m2\u001b[39m \u001b[38;5;241m+\u001b[39m (x2 \u001b[38;5;241m-\u001b[39m x1)\u001b[38;5;241m*\u001b[39m\u001b[38;5;241m*\u001b[39m\u001b[38;5;241m2\u001b[39m)\n",
      "\u001b[1;31mIndexError\u001b[0m: list index out of range"
     ]
    }
   ],
   "source": [
    "k = sys_rec.find_elbow_point(is_plot=True)"
   ]
  },
  {
   "cell_type": "markdown",
   "metadata": {},
   "source": [
    "### Training Model with Elbow Score"
   ]
  },
  {
   "cell_type": "code",
   "execution_count": null,
   "metadata": {},
   "outputs": [],
   "source": [
    "sys_rec.train(k)"
   ]
  },
  {
   "cell_type": "markdown",
   "metadata": {},
   "source": [
    "### Get Cluster Items Count"
   ]
  },
  {
   "cell_type": "code",
   "execution_count": null,
   "metadata": {},
   "outputs": [],
   "source": [
    "cluster_count = sys_rec.cluster_count()\n",
    "for i in range(len(cluster_count)):\n",
    "    print(\"Cluster \" + str(i) + \": \" + str(cluster_count[i]))"
   ]
  },
  {
   "cell_type": "markdown",
   "metadata": {},
   "source": [
    "### Plot Clusters"
   ]
  },
  {
   "cell_type": "code",
   "execution_count": null,
   "metadata": {},
   "outputs": [],
   "source": [
    "sys_rec.plot_cluster()"
   ]
  },
  {
   "cell_type": "markdown",
   "metadata": {},
   "source": [
    "# Prediction"
   ]
  },
  {
   "cell_type": "markdown",
   "metadata": {},
   "source": [
    "### One Hot Encoding User Tags"
   ]
  },
  {
   "cell_type": "code",
   "execution_count": null,
   "metadata": {},
   "outputs": [],
   "source": [
    "user = users_df.iloc[100]\n",
    "\n",
    "user_talent_tags = user['user_tags']\n",
    "\n",
    "user_talent_tags = [tag for tag in user_talent_tags.split('|') if tag != '']\n",
    "\n",
    "user_talent_tags = onehot_encoder.transform([[tag] for tag in user_talent_tags])\n",
    "\n",
    "user_talent_tags = np.sum(user_talent_tags, axis=0)\n",
    "\n",
    "user_talent_tags"
   ]
  },
  {
   "cell_type": "markdown",
   "metadata": {},
   "source": [
    "### Predict the Cluster"
   ]
  },
  {
   "cell_type": "code",
   "execution_count": null,
   "metadata": {},
   "outputs": [],
   "source": [
    "user_cluster_prediction = sys_rec.predict([user_talent_tags])"
   ]
  },
  {
   "cell_type": "markdown",
   "metadata": {},
   "source": [
    "### Show 7 Recommended Talents sorted by Average Rating"
   ]
  },
  {
   "cell_type": "code",
   "execution_count": null,
   "metadata": {},
   "outputs": [],
   "source": [
    "talent_recommendations = talents_df[sys_rec.get_labels() == user_cluster_prediction[0]].sort_values(by='average_rating', ascending=False)\n",
    "\n",
    "print(user['user_tags'])\n",
    "\n",
    "talent_recommendations.head(7)"
   ]
  }
 ],
 "metadata": {
  "kernelspec": {
   "display_name": "py310",
   "language": "python",
   "name": "python3"
  },
  "language_info": {
   "codemirror_mode": {
    "name": "ipython",
    "version": 3
   },
   "file_extension": ".py",
   "mimetype": "text/x-python",
   "name": "python",
   "nbconvert_exporter": "python",
   "pygments_lexer": "ipython3",
   "version": "3.10.13"
  }
 },
 "nbformat": 4,
 "nbformat_minor": 2
}
