{
 "cells": [
  {
   "cell_type": "code",
   "execution_count": 1,
   "metadata": {},
   "outputs": [],
   "source": [
    "import numpy as np\n",
    "import pandas as pd"
   ]
  },
  {
   "cell_type": "code",
   "execution_count": 2,
   "metadata": {},
   "outputs": [],
   "source": [
    "df = pd.read_csv('../talents.csv')"
   ]
  },
  {
   "cell_type": "code",
   "execution_count": 3,
   "metadata": {},
   "outputs": [
    {
     "data": {
      "text/html": [
       "<div>\n",
       "<style scoped>\n",
       "    .dataframe tbody tr th:only-of-type {\n",
       "        vertical-align: middle;\n",
       "    }\n",
       "\n",
       "    .dataframe tbody tr th {\n",
       "        vertical-align: top;\n",
       "    }\n",
       "\n",
       "    .dataframe thead th {\n",
       "        text-align: right;\n",
       "    }\n",
       "</style>\n",
       "<table border=\"1\" class=\"dataframe\">\n",
       "  <thead>\n",
       "    <tr style=\"text-align: right;\">\n",
       "      <th></th>\n",
       "      <th>talent_id</th>\n",
       "      <th>tags</th>\n",
       "      <th>talent_description</th>\n",
       "    </tr>\n",
       "  </thead>\n",
       "  <tbody>\n",
       "    <tr>\n",
       "      <th>0</th>\n",
       "      <td>e52cd4d5-04cf-47df-bc6c-166ed47ca27f</td>\n",
       "      <td>Kpopers|Olahraga|Mendengarkan-musik|Badminton|...</td>\n",
       "      <td>Saya sangat menyukai Kpop, girlband favorit sa...</td>\n",
       "    </tr>\n",
       "    <tr>\n",
       "      <th>1</th>\n",
       "      <td>2f2ae1c2-8a7e-4d3b-9267-6518b48a2c8e</td>\n",
       "      <td>Seniman|Desain|Kreatif|Inovatif|Optimis</td>\n",
       "      <td>Saya adalah seorang seniman visual yang mencin...</td>\n",
       "    </tr>\n",
       "    <tr>\n",
       "      <th>2</th>\n",
       "      <td>7a9c6f0b-5bea-45e1-ae7f-f7211f6025a1</td>\n",
       "      <td>Kuliner|Traveling|Petualangan|Berjiwa-petualan...</td>\n",
       "      <td>Pecinta kuliner dan petualangan! Saya suka men...</td>\n",
       "    </tr>\n",
       "    <tr>\n",
       "      <th>3</th>\n",
       "      <td>9b17344b-df71-43f3-8dd7-b9c7c5cdcb44</td>\n",
       "      <td>Teknologi|Programmer|Inovatif|Analitis|Coding</td>\n",
       "      <td>Seorang pengembang perangkat lunak yang bersem...</td>\n",
       "    </tr>\n",
       "    <tr>\n",
       "      <th>4</th>\n",
       "      <td>4e2a575a-c8e8-4a1d-a2ad-42e2d1fc7e5d</td>\n",
       "      <td>Pengajar|Membaca|Ambisius|Visioner|Cerdas</td>\n",
       "      <td>Pengajar bahasa Inggris yang juga pencinta lit...</td>\n",
       "    </tr>\n",
       "  </tbody>\n",
       "</table>\n",
       "</div>"
      ],
      "text/plain": [
       "                              talent_id  \\\n",
       "0  e52cd4d5-04cf-47df-bc6c-166ed47ca27f   \n",
       "1  2f2ae1c2-8a7e-4d3b-9267-6518b48a2c8e   \n",
       "2  7a9c6f0b-5bea-45e1-ae7f-f7211f6025a1   \n",
       "3  9b17344b-df71-43f3-8dd7-b9c7c5cdcb44   \n",
       "4  4e2a575a-c8e8-4a1d-a2ad-42e2d1fc7e5d   \n",
       "\n",
       "                                                tags  \\\n",
       "0  Kpopers|Olahraga|Mendengarkan-musik|Badminton|...   \n",
       "1            Seniman|Desain|Kreatif|Inovatif|Optimis   \n",
       "2  Kuliner|Traveling|Petualangan|Berjiwa-petualan...   \n",
       "3      Teknologi|Programmer|Inovatif|Analitis|Coding   \n",
       "4          Pengajar|Membaca|Ambisius|Visioner|Cerdas   \n",
       "\n",
       "                                  talent_description  \n",
       "0  Saya sangat menyukai Kpop, girlband favorit sa...  \n",
       "1  Saya adalah seorang seniman visual yang mencin...  \n",
       "2  Pecinta kuliner dan petualangan! Saya suka men...  \n",
       "3  Seorang pengembang perangkat lunak yang bersem...  \n",
       "4  Pengajar bahasa Inggris yang juga pencinta lit...  "
      ]
     },
     "execution_count": 3,
     "metadata": {},
     "output_type": "execute_result"
    }
   ],
   "source": [
    "df.head()"
   ]
  },
  {
   "cell_type": "code",
   "execution_count": 4,
   "metadata": {},
   "outputs": [
    {
     "data": {
      "text/plain": [
       "5    468\n",
       "4     28\n",
       "3     13\n",
       "Name: tags, dtype: int64"
      ]
     },
     "execution_count": 4,
     "metadata": {},
     "output_type": "execute_result"
    }
   ],
   "source": [
    "df['tags'].str.split('|').map(lambda tags: len(tags)).value_counts()"
   ]
  },
  {
   "cell_type": "code",
   "execution_count": 5,
   "metadata": {},
   "outputs": [],
   "source": [
    "tags = pd.read_csv('../data/tags.csv')"
   ]
  },
  {
   "cell_type": "code",
   "execution_count": 6,
   "metadata": {},
   "outputs": [
    {
     "data": {
      "text/html": [
       "<div>\n",
       "<style scoped>\n",
       "    .dataframe tbody tr th:only-of-type {\n",
       "        vertical-align: middle;\n",
       "    }\n",
       "\n",
       "    .dataframe tbody tr th {\n",
       "        vertical-align: top;\n",
       "    }\n",
       "\n",
       "    .dataframe thead th {\n",
       "        text-align: right;\n",
       "    }\n",
       "</style>\n",
       "<table border=\"1\" class=\"dataframe\">\n",
       "  <thead>\n",
       "    <tr style=\"text-align: right;\">\n",
       "      <th></th>\n",
       "      <th>tag</th>\n",
       "      <th>type</th>\n",
       "    </tr>\n",
       "  </thead>\n",
       "  <tbody>\n",
       "    <tr>\n",
       "      <th>0</th>\n",
       "      <td>Basket</td>\n",
       "      <td>hobi</td>\n",
       "    </tr>\n",
       "    <tr>\n",
       "      <th>1</th>\n",
       "      <td>Memasak</td>\n",
       "      <td>hobi</td>\n",
       "    </tr>\n",
       "    <tr>\n",
       "      <th>2</th>\n",
       "      <td>Desainer grafis</td>\n",
       "      <td>profesi</td>\n",
       "    </tr>\n",
       "    <tr>\n",
       "      <th>3</th>\n",
       "      <td>Disiplin</td>\n",
       "      <td>sifat</td>\n",
       "    </tr>\n",
       "    <tr>\n",
       "      <th>4</th>\n",
       "      <td>Mendengarkan musik</td>\n",
       "      <td>hobi</td>\n",
       "    </tr>\n",
       "  </tbody>\n",
       "</table>\n",
       "</div>"
      ],
      "text/plain": [
       "                  tag     type\n",
       "0              Basket     hobi\n",
       "1             Memasak     hobi\n",
       "2     Desainer grafis  profesi\n",
       "3            Disiplin    sifat\n",
       "4  Mendengarkan musik     hobi"
      ]
     },
     "execution_count": 6,
     "metadata": {},
     "output_type": "execute_result"
    }
   ],
   "source": [
    "tags.head()"
   ]
  },
  {
   "cell_type": "code",
   "execution_count": 7,
   "metadata": {},
   "outputs": [],
   "source": [
    "list_tags = tags['tag'].values"
   ]
  },
  {
   "cell_type": "markdown",
   "metadata": {},
   "source": [
    "### Menambahkan random tag pada talent yang jumlah tag < 5"
   ]
  },
  {
   "cell_type": "code",
   "execution_count": 8,
   "metadata": {},
   "outputs": [],
   "source": [
    "def impute_random_tag(tags: list) -> str:\n",
    "    if len(tags) < 5:\n",
    "        while len(tags) != 5:\n",
    "            random_tag = np.random.choice(list_tags)\n",
    "            tags.append(random_tag)\n",
    "\n",
    "    for i in range(len(tags)):\n",
    "        if tags[i] not in list_tags:\n",
    "            tags[i] = np.random.choice(list_tags)\n",
    "\n",
    "    for i in range(len(tags)):\n",
    "        tag = tags[i].split(\"-\")\n",
    "        if len(tag) > 1:\n",
    "            tags[i] = \" \".join(tag)\n",
    "\n",
    "    return \"|\".join(tags)"
   ]
  },
  {
   "cell_type": "code",
   "execution_count": 9,
   "metadata": {},
   "outputs": [
    {
     "data": {
      "text/plain": [
       "array([], dtype=float64)"
      ]
     },
     "execution_count": 9,
     "metadata": {},
     "output_type": "execute_result"
    }
   ],
   "source": [
    "outlier = []\n",
    "for talent_tags in df[\"tags\"].str.split(\"|\").map(impute_random_tag).str.split(\"|\").values:\n",
    "     for tag in talent_tags:\n",
    "         if tag not in list_tags:\n",
    "             outlier.append(tag)\n",
    "\n",
    "np.array(list(set(outlier)))"
   ]
  },
  {
   "cell_type": "code",
   "execution_count": 10,
   "metadata": {},
   "outputs": [],
   "source": [
    "df['tags'] = df['tags'].str.split('|').map(impute_random_tag)"
   ]
  },
  {
   "cell_type": "code",
   "execution_count": 11,
   "metadata": {},
   "outputs": [
    {
     "data": {
      "text/plain": [
       "5    509\n",
       "Name: tags, dtype: int64"
      ]
     },
     "execution_count": 11,
     "metadata": {},
     "output_type": "execute_result"
    }
   ],
   "source": [
    "df[\"tags\"].str.split(\"|\").map(lambda tags: len(tags)).value_counts()"
   ]
  },
  {
   "cell_type": "code",
   "execution_count": 12,
   "metadata": {},
   "outputs": [
    {
     "data": {
      "text/html": [
       "<div>\n",
       "<style scoped>\n",
       "    .dataframe tbody tr th:only-of-type {\n",
       "        vertical-align: middle;\n",
       "    }\n",
       "\n",
       "    .dataframe tbody tr th {\n",
       "        vertical-align: top;\n",
       "    }\n",
       "\n",
       "    .dataframe thead th {\n",
       "        text-align: right;\n",
       "    }\n",
       "</style>\n",
       "<table border=\"1\" class=\"dataframe\">\n",
       "  <thead>\n",
       "    <tr style=\"text-align: right;\">\n",
       "      <th></th>\n",
       "      <th>talent_id</th>\n",
       "      <th>tags</th>\n",
       "      <th>talent_description</th>\n",
       "    </tr>\n",
       "  </thead>\n",
       "  <tbody>\n",
       "    <tr>\n",
       "      <th>0</th>\n",
       "      <td>e52cd4d5-04cf-47df-bc6c-166ed47ca27f</td>\n",
       "      <td>Kpopers|Olahraga|Berjiwa petualang|Badminton|H...</td>\n",
       "      <td>Saya sangat menyukai Kpop, girlband favorit sa...</td>\n",
       "    </tr>\n",
       "    <tr>\n",
       "      <th>1</th>\n",
       "      <td>2f2ae1c2-8a7e-4d3b-9267-6518b48a2c8e</td>\n",
       "      <td>Seniman|Desain|Kreatif|Inovatif|Optimis</td>\n",
       "      <td>Saya adalah seorang seniman visual yang mencin...</td>\n",
       "    </tr>\n",
       "    <tr>\n",
       "      <th>2</th>\n",
       "      <td>7a9c6f0b-5bea-45e1-ae7f-f7211f6025a1</td>\n",
       "      <td>Kuliner|Traveling|Petualangan|Bersepeda|Kutu buku</td>\n",
       "      <td>Pecinta kuliner dan petualangan! Saya suka men...</td>\n",
       "    </tr>\n",
       "    <tr>\n",
       "      <th>3</th>\n",
       "      <td>9b17344b-df71-43f3-8dd7-b9c7c5cdcb44</td>\n",
       "      <td>Teknologi|Programmer|Inovatif|Analitis|Coding</td>\n",
       "      <td>Seorang pengembang perangkat lunak yang bersem...</td>\n",
       "    </tr>\n",
       "    <tr>\n",
       "      <th>4</th>\n",
       "      <td>4e2a575a-c8e8-4a1d-a2ad-42e2d1fc7e5d</td>\n",
       "      <td>Pengajar|Membaca|Ambisius|Visioner|Cerdas</td>\n",
       "      <td>Pengajar bahasa Inggris yang juga pencinta lit...</td>\n",
       "    </tr>\n",
       "  </tbody>\n",
       "</table>\n",
       "</div>"
      ],
      "text/plain": [
       "                              talent_id  \\\n",
       "0  e52cd4d5-04cf-47df-bc6c-166ed47ca27f   \n",
       "1  2f2ae1c2-8a7e-4d3b-9267-6518b48a2c8e   \n",
       "2  7a9c6f0b-5bea-45e1-ae7f-f7211f6025a1   \n",
       "3  9b17344b-df71-43f3-8dd7-b9c7c5cdcb44   \n",
       "4  4e2a575a-c8e8-4a1d-a2ad-42e2d1fc7e5d   \n",
       "\n",
       "                                                tags  \\\n",
       "0  Kpopers|Olahraga|Berjiwa petualang|Badminton|H...   \n",
       "1            Seniman|Desain|Kreatif|Inovatif|Optimis   \n",
       "2  Kuliner|Traveling|Petualangan|Bersepeda|Kutu buku   \n",
       "3      Teknologi|Programmer|Inovatif|Analitis|Coding   \n",
       "4          Pengajar|Membaca|Ambisius|Visioner|Cerdas   \n",
       "\n",
       "                                  talent_description  \n",
       "0  Saya sangat menyukai Kpop, girlband favorit sa...  \n",
       "1  Saya adalah seorang seniman visual yang mencin...  \n",
       "2  Pecinta kuliner dan petualangan! Saya suka men...  \n",
       "3  Seorang pengembang perangkat lunak yang bersem...  \n",
       "4  Pengajar bahasa Inggris yang juga pencinta lit...  "
      ]
     },
     "execution_count": 12,
     "metadata": {},
     "output_type": "execute_result"
    }
   ],
   "source": [
    "df.head()"
   ]
  },
  {
   "cell_type": "code",
   "execution_count": 13,
   "metadata": {},
   "outputs": [],
   "source": [
    "df.to_csv('../talents_cleaned.csv', index=False)"
   ]
  },
  {
   "cell_type": "code",
   "execution_count": null,
   "metadata": {},
   "outputs": [],
   "source": []
  }
 ],
 "metadata": {
  "kernelspec": {
   "display_name": "base",
   "language": "python",
   "name": "python3"
  },
  "language_info": {
   "codemirror_mode": {
    "name": "ipython",
    "version": 3
   },
   "file_extension": ".py",
   "mimetype": "text/x-python",
   "name": "python",
   "nbconvert_exporter": "python",
   "pygments_lexer": "ipython3",
   "version": "3.9.12"
  }
 },
 "nbformat": 4,
 "nbformat_minor": 2
}
