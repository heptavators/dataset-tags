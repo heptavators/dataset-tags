{
 "cells": [
  {
   "cell_type": "code",
   "execution_count": 1,
   "metadata": {},
   "outputs": [],
   "source": [
    "import pandas as pd\n",
    "import numpy as np"
   ]
  },
  {
   "cell_type": "code",
   "execution_count": 2,
   "metadata": {},
   "outputs": [],
   "source": [
    "reviews_df = pd.read_csv('../reviews.csv')"
   ]
  },
  {
   "cell_type": "code",
   "execution_count": 3,
   "metadata": {},
   "outputs": [
    {
     "data": {
      "text/html": [
       "<div>\n",
       "<style scoped>\n",
       "    .dataframe tbody tr th:only-of-type {\n",
       "        vertical-align: middle;\n",
       "    }\n",
       "\n",
       "    .dataframe tbody tr th {\n",
       "        vertical-align: top;\n",
       "    }\n",
       "\n",
       "    .dataframe thead th {\n",
       "        text-align: right;\n",
       "    }\n",
       "</style>\n",
       "<table border=\"1\" class=\"dataframe\">\n",
       "  <thead>\n",
       "    <tr style=\"text-align: right;\">\n",
       "      <th></th>\n",
       "      <th>user_id</th>\n",
       "      <th>talent_id</th>\n",
       "      <th>rating</th>\n",
       "      <th>review</th>\n",
       "    </tr>\n",
       "  </thead>\n",
       "  <tbody>\n",
       "    <tr>\n",
       "      <th>0</th>\n",
       "      <td>287</td>\n",
       "      <td>233</td>\n",
       "      <td>4</td>\n",
       "      <td>Talent ini sangat kreatif dalam fotografi, has...</td>\n",
       "    </tr>\n",
       "    <tr>\n",
       "      <th>1</th>\n",
       "      <td>287</td>\n",
       "      <td>493</td>\n",
       "      <td>3</td>\n",
       "      <td>Kemampuan olahraga talent ini memuaskan, tetap...</td>\n",
       "    </tr>\n",
       "    <tr>\n",
       "      <th>2</th>\n",
       "      <td>748</td>\n",
       "      <td>127</td>\n",
       "      <td>5</td>\n",
       "      <td>Sangat puas dengan pengalaman kuliner bersama ...</td>\n",
       "    </tr>\n",
       "    <tr>\n",
       "      <th>3</th>\n",
       "      <td>747</td>\n",
       "      <td>86</td>\n",
       "      <td>4</td>\n",
       "      <td>Talent ini memberikan konsultasi bisnis yang s...</td>\n",
       "    </tr>\n",
       "    <tr>\n",
       "      <th>4</th>\n",
       "      <td>71</td>\n",
       "      <td>11</td>\n",
       "      <td>2</td>\n",
       "      <td>Kemampuan gym dan jogging talent ini tidak ses...</td>\n",
       "    </tr>\n",
       "  </tbody>\n",
       "</table>\n",
       "</div>"
      ],
      "text/plain": [
       "   user_id  talent_id  rating  \\\n",
       "0      287        233       4   \n",
       "1      287        493       3   \n",
       "2      748        127       5   \n",
       "3      747         86       4   \n",
       "4       71         11       2   \n",
       "\n",
       "                                              review  \n",
       "0  Talent ini sangat kreatif dalam fotografi, has...  \n",
       "1  Kemampuan olahraga talent ini memuaskan, tetap...  \n",
       "2  Sangat puas dengan pengalaman kuliner bersama ...  \n",
       "3  Talent ini memberikan konsultasi bisnis yang s...  \n",
       "4  Kemampuan gym dan jogging talent ini tidak ses...  "
      ]
     },
     "execution_count": 3,
     "metadata": {},
     "output_type": "execute_result"
    }
   ],
   "source": [
    "reviews_df.head()"
   ]
  },
  {
   "cell_type": "code",
   "execution_count": 4,
   "metadata": {},
   "outputs": [
    {
     "name": "stdout",
     "output_type": "stream",
     "text": [
      "<class 'pandas.core.frame.DataFrame'>\n",
      "RangeIndex: 609 entries, 0 to 608\n",
      "Data columns (total 4 columns):\n",
      " #   Column     Non-Null Count  Dtype \n",
      "---  ------     --------------  ----- \n",
      " 0   user_id    609 non-null    int64 \n",
      " 1   talent_id  609 non-null    int64 \n",
      " 2   rating     609 non-null    int64 \n",
      " 3   review     609 non-null    object\n",
      "dtypes: int64(3), object(1)\n",
      "memory usage: 19.2+ KB\n"
     ]
    }
   ],
   "source": [
    "reviews_df.info()"
   ]
  },
  {
   "cell_type": "code",
   "execution_count": 5,
   "metadata": {},
   "outputs": [],
   "source": [
    "users_df = pd.read_csv('../data/users.csv')\n",
    "talents_df = pd.read_csv('../data/talents.csv')"
   ]
  },
  {
   "cell_type": "code",
   "execution_count": 6,
   "metadata": {},
   "outputs": [],
   "source": [
    "reviews_copy = reviews_df.copy()"
   ]
  },
  {
   "cell_type": "code",
   "execution_count": 7,
   "metadata": {},
   "outputs": [],
   "source": [
    "for i in range(len(reviews_copy)):\n",
    "    user_idx = reviews_copy.loc[i, 'user_id']\n",
    "    talent_idx = reviews_copy.loc[i, 'talent_id']\n",
    "    \n",
    "    if user_idx >= len(users_df):\n",
    "        user_idx = np.random.randint(len(users_df))\n",
    "        \n",
    "    if talent_idx >= len(talents_df):\n",
    "        talent_idx = np.random.randint(len(talents_df))\n",
    "    \n",
    "    user_id = users_df.loc[user_idx, 'user_id']\n",
    "    talent_id = talents_df.loc[talent_idx, 'talent_id']\n",
    "    \n",
    "    reviews_copy.loc[i, 'user_id'] = user_id\n",
    "    reviews_copy.loc[i, 'talent_id'] = talent_id"
   ]
  },
  {
   "cell_type": "code",
   "execution_count": 9,
   "metadata": {},
   "outputs": [
    {
     "data": {
      "text/html": [
       "<div>\n",
       "<style scoped>\n",
       "    .dataframe tbody tr th:only-of-type {\n",
       "        vertical-align: middle;\n",
       "    }\n",
       "\n",
       "    .dataframe tbody tr th {\n",
       "        vertical-align: top;\n",
       "    }\n",
       "\n",
       "    .dataframe thead th {\n",
       "        text-align: right;\n",
       "    }\n",
       "</style>\n",
       "<table border=\"1\" class=\"dataframe\">\n",
       "  <thead>\n",
       "    <tr style=\"text-align: right;\">\n",
       "      <th></th>\n",
       "      <th>user_id</th>\n",
       "      <th>talent_id</th>\n",
       "      <th>rating</th>\n",
       "      <th>review</th>\n",
       "    </tr>\n",
       "  </thead>\n",
       "  <tbody>\n",
       "    <tr>\n",
       "      <th>0</th>\n",
       "      <td>5de6b455-0a80-4047-90e7-8ddee7ee2bb8</td>\n",
       "      <td>6742ab46-c8ca-4acc-99b2-9ba1c5bfccb6</td>\n",
       "      <td>4</td>\n",
       "      <td>Talent ini sangat kreatif dalam fotografi, has...</td>\n",
       "    </tr>\n",
       "    <tr>\n",
       "      <th>1</th>\n",
       "      <td>5de6b455-0a80-4047-90e7-8ddee7ee2bb8</td>\n",
       "      <td>d9b90682-f5b4-45f7-b1ed-8b8044c945e1</td>\n",
       "      <td>3</td>\n",
       "      <td>Kemampuan olahraga talent ini memuaskan, tetap...</td>\n",
       "    </tr>\n",
       "    <tr>\n",
       "      <th>2</th>\n",
       "      <td>bc92f639-6659-4732-ad42-cc62b377f811</td>\n",
       "      <td>1b18b89b-5434-422d-b2d9-294e4c64657e</td>\n",
       "      <td>5</td>\n",
       "      <td>Sangat puas dengan pengalaman kuliner bersama ...</td>\n",
       "    </tr>\n",
       "    <tr>\n",
       "      <th>3</th>\n",
       "      <td>9a8427dd-ef41-46d9-86fe-063129e8190e</td>\n",
       "      <td>931c2814-1f84-404f-851a-7fb075835d95</td>\n",
       "      <td>4</td>\n",
       "      <td>Talent ini memberikan konsultasi bisnis yang s...</td>\n",
       "    </tr>\n",
       "    <tr>\n",
       "      <th>4</th>\n",
       "      <td>0e9ced1a-35a0-4ad5-a204-3d5c843de78f</td>\n",
       "      <td>ddc39acb-d29b-43f0-abcd-f54fe7be2904</td>\n",
       "      <td>2</td>\n",
       "      <td>Kemampuan gym dan jogging talent ini tidak ses...</td>\n",
       "    </tr>\n",
       "  </tbody>\n",
       "</table>\n",
       "</div>"
      ],
      "text/plain": [
       "                                user_id                             talent_id  \\\n",
       "0  5de6b455-0a80-4047-90e7-8ddee7ee2bb8  6742ab46-c8ca-4acc-99b2-9ba1c5bfccb6   \n",
       "1  5de6b455-0a80-4047-90e7-8ddee7ee2bb8  d9b90682-f5b4-45f7-b1ed-8b8044c945e1   \n",
       "2  bc92f639-6659-4732-ad42-cc62b377f811  1b18b89b-5434-422d-b2d9-294e4c64657e   \n",
       "3  9a8427dd-ef41-46d9-86fe-063129e8190e  931c2814-1f84-404f-851a-7fb075835d95   \n",
       "4  0e9ced1a-35a0-4ad5-a204-3d5c843de78f  ddc39acb-d29b-43f0-abcd-f54fe7be2904   \n",
       "\n",
       "   rating                                             review  \n",
       "0       4  Talent ini sangat kreatif dalam fotografi, has...  \n",
       "1       3  Kemampuan olahraga talent ini memuaskan, tetap...  \n",
       "2       5  Sangat puas dengan pengalaman kuliner bersama ...  \n",
       "3       4  Talent ini memberikan konsultasi bisnis yang s...  \n",
       "4       2  Kemampuan gym dan jogging talent ini tidak ses...  "
      ]
     },
     "execution_count": 9,
     "metadata": {},
     "output_type": "execute_result"
    }
   ],
   "source": [
    "reviews_copy.head()"
   ]
  },
  {
   "cell_type": "code",
   "execution_count": 10,
   "metadata": {},
   "outputs": [],
   "source": [
    "def check_outlier():\n",
    "    user_outliers = []\n",
    "    talent_outliers = []\n",
    "    \n",
    "    for i in range(len(reviews_copy)):\n",
    "        user_id = reviews_copy.loc[i, 'user_id']\n",
    "        talent_id = reviews_copy.loc[i, 'talent_id']\n",
    "        \n",
    "        if len(users_df[users_df['user_id'] == user_id]) == 0:\n",
    "            user_outliers.append(user_id)        \n",
    "        if len(talents_df[talents_df['talent_id'] == talent_id]) == 0:\n",
    "            talent_outliers.append(user_id)        \n",
    "\n",
    "    print(user_outliers)\n",
    "    print(talent_outliers)"
   ]
  },
  {
   "cell_type": "code",
   "execution_count": 11,
   "metadata": {},
   "outputs": [
    {
     "name": "stdout",
     "output_type": "stream",
     "text": [
      "[]\n",
      "[]\n"
     ]
    }
   ],
   "source": [
    "check_outlier()"
   ]
  },
  {
   "cell_type": "code",
   "execution_count": 12,
   "metadata": {},
   "outputs": [],
   "source": [
    "reviews_copy.to_csv('../data/reviews.csv', index=False)"
   ]
  },
  {
   "cell_type": "code",
   "execution_count": null,
   "metadata": {},
   "outputs": [],
   "source": []
  }
 ],
 "metadata": {
  "kernelspec": {
   "display_name": "base",
   "language": "python",
   "name": "python3"
  },
  "language_info": {
   "codemirror_mode": {
    "name": "ipython",
    "version": 3
   },
   "file_extension": ".py",
   "mimetype": "text/x-python",
   "name": "python",
   "nbconvert_exporter": "python",
   "pygments_lexer": "ipython3",
   "version": "3.9.12"
  }
 },
 "nbformat": 4,
 "nbformat_minor": 2
}
