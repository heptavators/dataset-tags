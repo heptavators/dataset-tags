{
 "cells": [
  {
   "cell_type": "code",
   "execution_count": 1,
   "metadata": {},
   "outputs": [],
   "source": [
    "import numpy as np\n",
    "import pandas as pd\n"
   ]
  },
  {
   "cell_type": "code",
   "execution_count": 2,
   "metadata": {},
   "outputs": [],
   "source": [
    "df = pd.read_csv('../users.csv')\n"
   ]
  },
  {
   "cell_type": "code",
   "execution_count": 3,
   "metadata": {},
   "outputs": [
    {
     "data": {
      "text/html": [
       "<div>\n",
       "<style scoped>\n",
       "    .dataframe tbody tr th:only-of-type {\n",
       "        vertical-align: middle;\n",
       "    }\n",
       "\n",
       "    .dataframe tbody tr th {\n",
       "        vertical-align: top;\n",
       "    }\n",
       "\n",
       "    .dataframe thead th {\n",
       "        text-align: right;\n",
       "    }\n",
       "</style>\n",
       "<table border=\"1\" class=\"dataframe\">\n",
       "  <thead>\n",
       "    <tr style=\"text-align: right;\">\n",
       "      <th></th>\n",
       "      <th>user_id</th>\n",
       "      <th>tags</th>\n",
       "      <th>user_preferences</th>\n",
       "    </tr>\n",
       "  </thead>\n",
       "  <tbody>\n",
       "    <tr>\n",
       "      <th>0</th>\n",
       "      <td>7a7388dd-5d5f-40c8-88e3-d8dac77a5f6b</td>\n",
       "      <td>Wibu|Gamers|Mendengarkan musik|Humoris|Membaca</td>\n",
       "      <td>Gua pengen dapet teman yang bisa diajak pergi ...</td>\n",
       "    </tr>\n",
       "    <tr>\n",
       "      <th>1</th>\n",
       "      <td>8b57a919-71c1-4e2a-a68d-24fe5d8b10f2</td>\n",
       "      <td>Desainer grafis|Seniman|Kreatif|Fleksibel|Bere...</td>\n",
       "      <td>Seorang desainer grafis yang kreatif dan fleks...</td>\n",
       "    </tr>\n",
       "    <tr>\n",
       "      <th>2</th>\n",
       "      <td>4f9d1b58-c72d-4f4f-86e9-2ea8b2e063bd</td>\n",
       "      <td>Pramugari|Traveling|Self development|Berjiwa s...</td>\n",
       "      <td>Seorang pramugari yang gemar traveling dan pen...</td>\n",
       "    </tr>\n",
       "    <tr>\n",
       "      <th>3</th>\n",
       "      <td>2c8c791e-3f50-499f-ae32-3c9e5a556746</td>\n",
       "      <td>Programmer|Teknologi|Gamers|Berenang|Multimedia</td>\n",
       "      <td>Seorang programmer yang tertarik pada teknolog...</td>\n",
       "    </tr>\n",
       "    <tr>\n",
       "      <th>4</th>\n",
       "      <td>9e14f38c-6fc0-4b7d-9e88-2a5ab66eefc1</td>\n",
       "      <td>Pendaki|Berjiwa petualang|Fotografi|Bersepeda|...</td>\n",
       "      <td>Pendaki yang suka petualangan dan fotografi al...</td>\n",
       "    </tr>\n",
       "  </tbody>\n",
       "</table>\n",
       "</div>"
      ],
      "text/plain": [
       "                                user_id  \\\n",
       "0  7a7388dd-5d5f-40c8-88e3-d8dac77a5f6b   \n",
       "1  8b57a919-71c1-4e2a-a68d-24fe5d8b10f2   \n",
       "2  4f9d1b58-c72d-4f4f-86e9-2ea8b2e063bd   \n",
       "3  2c8c791e-3f50-499f-ae32-3c9e5a556746   \n",
       "4  9e14f38c-6fc0-4b7d-9e88-2a5ab66eefc1   \n",
       "\n",
       "                                                tags  \\\n",
       "0     Wibu|Gamers|Mendengarkan musik|Humoris|Membaca   \n",
       "1  Desainer grafis|Seniman|Kreatif|Fleksibel|Bere...   \n",
       "2  Pramugari|Traveling|Self development|Berjiwa s...   \n",
       "3    Programmer|Teknologi|Gamers|Berenang|Multimedia   \n",
       "4  Pendaki|Berjiwa petualang|Fotografi|Bersepeda|...   \n",
       "\n",
       "                                    user_preferences  \n",
       "0  Gua pengen dapet teman yang bisa diajak pergi ...  \n",
       "1  Seorang desainer grafis yang kreatif dan fleks...  \n",
       "2  Seorang pramugari yang gemar traveling dan pen...  \n",
       "3  Seorang programmer yang tertarik pada teknolog...  \n",
       "4  Pendaki yang suka petualangan dan fotografi al...  "
      ]
     },
     "execution_count": 3,
     "metadata": {},
     "output_type": "execute_result"
    }
   ],
   "source": [
    "df.head()\n"
   ]
  },
  {
   "cell_type": "code",
   "execution_count": 4,
   "metadata": {},
   "outputs": [
    {
     "data": {
      "text/plain": [
       "5    507\n",
       "Name: tags, dtype: int64"
      ]
     },
     "execution_count": 4,
     "metadata": {},
     "output_type": "execute_result"
    }
   ],
   "source": [
    "df[\"tags\"].str.split(\"|\").map(lambda tags: len(tags)).value_counts()\n"
   ]
  },
  {
   "cell_type": "code",
   "execution_count": 5,
   "metadata": {},
   "outputs": [],
   "source": [
    "tags = pd.read_csv(\"../data/tags.csv\")\n"
   ]
  },
  {
   "cell_type": "code",
   "execution_count": 6,
   "metadata": {},
   "outputs": [
    {
     "data": {
      "text/html": [
       "<div>\n",
       "<style scoped>\n",
       "    .dataframe tbody tr th:only-of-type {\n",
       "        vertical-align: middle;\n",
       "    }\n",
       "\n",
       "    .dataframe tbody tr th {\n",
       "        vertical-align: top;\n",
       "    }\n",
       "\n",
       "    .dataframe thead th {\n",
       "        text-align: right;\n",
       "    }\n",
       "</style>\n",
       "<table border=\"1\" class=\"dataframe\">\n",
       "  <thead>\n",
       "    <tr style=\"text-align: right;\">\n",
       "      <th></th>\n",
       "      <th>tag</th>\n",
       "      <th>type</th>\n",
       "    </tr>\n",
       "  </thead>\n",
       "  <tbody>\n",
       "    <tr>\n",
       "      <th>0</th>\n",
       "      <td>Basket</td>\n",
       "      <td>hobi</td>\n",
       "    </tr>\n",
       "    <tr>\n",
       "      <th>1</th>\n",
       "      <td>Memasak</td>\n",
       "      <td>hobi</td>\n",
       "    </tr>\n",
       "    <tr>\n",
       "      <th>2</th>\n",
       "      <td>Desainer grafis</td>\n",
       "      <td>profesi</td>\n",
       "    </tr>\n",
       "    <tr>\n",
       "      <th>3</th>\n",
       "      <td>Disiplin</td>\n",
       "      <td>sifat</td>\n",
       "    </tr>\n",
       "    <tr>\n",
       "      <th>4</th>\n",
       "      <td>Mendengarkan musik</td>\n",
       "      <td>hobi</td>\n",
       "    </tr>\n",
       "  </tbody>\n",
       "</table>\n",
       "</div>"
      ],
      "text/plain": [
       "                  tag     type\n",
       "0              Basket     hobi\n",
       "1             Memasak     hobi\n",
       "2     Desainer grafis  profesi\n",
       "3            Disiplin    sifat\n",
       "4  Mendengarkan musik     hobi"
      ]
     },
     "execution_count": 6,
     "metadata": {},
     "output_type": "execute_result"
    }
   ],
   "source": [
    "tags.head()\n"
   ]
  },
  {
   "cell_type": "code",
   "execution_count": 7,
   "metadata": {},
   "outputs": [],
   "source": [
    "list_tags = tags[\"tag\"].values\n"
   ]
  },
  {
   "cell_type": "code",
   "execution_count": 9,
   "metadata": {},
   "outputs": [
    {
     "name": "stdout",
     "output_type": "stream",
     "text": [
      "(191,) (0,) (191,) []\n"
     ]
    }
   ],
   "source": [
    "df = pd.read_csv('../users.csv')\n",
    "users_tags = df[\"tags\"].str.split(\"|\").values\n",
    "\n",
    "\n",
    "users_tags_unique = np.unique(np.concatenate(users_tags))\n",
    "\n",
    "not_in_list = np.setdiff1d(list_tags, users_tags_unique)\n",
    "\n",
    "users_tags_in_list = np.setdiff1d(users_tags_unique, list_tags)\n",
    "\n",
    "outlier_tags = np.setdiff1d(users_tags_unique, list_tags)\n",
    "\n",
    "print(\n",
    "    users_tags_unique.shape,\n",
    "    not_in_list.shape,\n",
    "    list_tags.shape,\n",
    "    outlier_tags,\n",
    ")\n"
   ]
  },
  {
   "cell_type": "markdown",
   "metadata": {},
   "source": [
    "### Menambahkan random tag pada user yang jumlah tag < 5 "
   ]
  },
  {
   "cell_type": "code",
   "execution_count": 10,
   "metadata": {},
   "outputs": [],
   "source": [
    "def impute_random_tag(tags: list) -> str:\n",
    "    if len(tags) < 5:\n",
    "        while len(tags) != 5:\n",
    "            random_tag = np.random.choice(list_tags)\n",
    "            tags.append(random_tag)\n",
    "\n",
    "    for i in range(len(tags)):\n",
    "        if tags[i] not in list_tags:\n",
    "            tags[i] = np.random.choice(list_tags)\n",
    "\n",
    "    for i in range(len(tags)):\n",
    "        tag = tags[i].split(\"-\")\n",
    "        if len(tag) > 1:\n",
    "            tags[i] = \" \".join(tag)\n",
    "\n",
    "    return \"|\".join(tags)\n"
   ]
  },
  {
   "cell_type": "code",
   "execution_count": 11,
   "metadata": {},
   "outputs": [
    {
     "data": {
      "text/plain": [
       "array([], dtype=float64)"
      ]
     },
     "execution_count": 11,
     "metadata": {},
     "output_type": "execute_result"
    }
   ],
   "source": [
    "outlier = []\n",
    "for user_tags in (\n",
    "    df[\"tags\"].str.split(\"|\").map(impute_random_tag).str.split(\"|\").values\n",
    "):\n",
    "    for tag in user_tags:\n",
    "        if tag not in list_tags:\n",
    "            outlier.append(tag)\n",
    "\n",
    "np.array(list(set(outlier)))\n"
   ]
  },
  {
   "cell_type": "code",
   "execution_count": 12,
   "metadata": {},
   "outputs": [],
   "source": [
    "df[\"tags\"] = df[\"tags\"].str.split(\"|\").map(impute_random_tag)\n"
   ]
  },
  {
   "cell_type": "code",
   "execution_count": 13,
   "metadata": {},
   "outputs": [
    {
     "data": {
      "text/plain": [
       "5    507\n",
       "Name: tags, dtype: int64"
      ]
     },
     "execution_count": 13,
     "metadata": {},
     "output_type": "execute_result"
    }
   ],
   "source": [
    "df[\"tags\"].str.split(\"|\").map(lambda tags: len(tags)).value_counts()\n"
   ]
  },
  {
   "cell_type": "code",
   "execution_count": 14,
   "metadata": {},
   "outputs": [
    {
     "data": {
      "text/html": [
       "<div>\n",
       "<style scoped>\n",
       "    .dataframe tbody tr th:only-of-type {\n",
       "        vertical-align: middle;\n",
       "    }\n",
       "\n",
       "    .dataframe tbody tr th {\n",
       "        vertical-align: top;\n",
       "    }\n",
       "\n",
       "    .dataframe thead th {\n",
       "        text-align: right;\n",
       "    }\n",
       "</style>\n",
       "<table border=\"1\" class=\"dataframe\">\n",
       "  <thead>\n",
       "    <tr style=\"text-align: right;\">\n",
       "      <th></th>\n",
       "      <th>user_id</th>\n",
       "      <th>tags</th>\n",
       "      <th>user_preferences</th>\n",
       "    </tr>\n",
       "  </thead>\n",
       "  <tbody>\n",
       "    <tr>\n",
       "      <th>0</th>\n",
       "      <td>7a7388dd-5d5f-40c8-88e3-d8dac77a5f6b</td>\n",
       "      <td>Wibu|Gamers|Mendengarkan musik|Humoris|Membaca</td>\n",
       "      <td>Gua pengen dapet teman yang bisa diajak pergi ...</td>\n",
       "    </tr>\n",
       "    <tr>\n",
       "      <th>1</th>\n",
       "      <td>8b57a919-71c1-4e2a-a68d-24fe5d8b10f2</td>\n",
       "      <td>Desainer grafis|Seniman|Kreatif|Fleksibel|Bere...</td>\n",
       "      <td>Seorang desainer grafis yang kreatif dan fleks...</td>\n",
       "    </tr>\n",
       "    <tr>\n",
       "      <th>2</th>\n",
       "      <td>4f9d1b58-c72d-4f4f-86e9-2ea8b2e063bd</td>\n",
       "      <td>Pramugari|Traveling|Self development|Berjiwa s...</td>\n",
       "      <td>Seorang pramugari yang gemar traveling dan pen...</td>\n",
       "    </tr>\n",
       "    <tr>\n",
       "      <th>3</th>\n",
       "      <td>2c8c791e-3f50-499f-ae32-3c9e5a556746</td>\n",
       "      <td>Programmer|Teknologi|Gamers|Berenang|Multimedia</td>\n",
       "      <td>Seorang programmer yang tertarik pada teknolog...</td>\n",
       "    </tr>\n",
       "    <tr>\n",
       "      <th>4</th>\n",
       "      <td>9e14f38c-6fc0-4b7d-9e88-2a5ab66eefc1</td>\n",
       "      <td>Pendaki|Berjiwa petualang|Fotografi|Bersepeda|...</td>\n",
       "      <td>Pendaki yang suka petualangan dan fotografi al...</td>\n",
       "    </tr>\n",
       "  </tbody>\n",
       "</table>\n",
       "</div>"
      ],
      "text/plain": [
       "                                user_id  \\\n",
       "0  7a7388dd-5d5f-40c8-88e3-d8dac77a5f6b   \n",
       "1  8b57a919-71c1-4e2a-a68d-24fe5d8b10f2   \n",
       "2  4f9d1b58-c72d-4f4f-86e9-2ea8b2e063bd   \n",
       "3  2c8c791e-3f50-499f-ae32-3c9e5a556746   \n",
       "4  9e14f38c-6fc0-4b7d-9e88-2a5ab66eefc1   \n",
       "\n",
       "                                                tags  \\\n",
       "0     Wibu|Gamers|Mendengarkan musik|Humoris|Membaca   \n",
       "1  Desainer grafis|Seniman|Kreatif|Fleksibel|Bere...   \n",
       "2  Pramugari|Traveling|Self development|Berjiwa s...   \n",
       "3    Programmer|Teknologi|Gamers|Berenang|Multimedia   \n",
       "4  Pendaki|Berjiwa petualang|Fotografi|Bersepeda|...   \n",
       "\n",
       "                                    user_preferences  \n",
       "0  Gua pengen dapet teman yang bisa diajak pergi ...  \n",
       "1  Seorang desainer grafis yang kreatif dan fleks...  \n",
       "2  Seorang pramugari yang gemar traveling dan pen...  \n",
       "3  Seorang programmer yang tertarik pada teknolog...  \n",
       "4  Pendaki yang suka petualangan dan fotografi al...  "
      ]
     },
     "execution_count": 14,
     "metadata": {},
     "output_type": "execute_result"
    }
   ],
   "source": [
    "df.head()\n"
   ]
  },
  {
   "cell_type": "code",
   "execution_count": null,
   "metadata": {},
   "outputs": [],
   "source": []
  }
 ],
 "metadata": {
  "kernelspec": {
   "display_name": "base",
   "language": "python",
   "name": "python3"
  },
  "language_info": {
   "codemirror_mode": {
    "name": "ipython",
    "version": 3
   },
   "file_extension": ".py",
   "mimetype": "text/x-python",
   "name": "python",
   "nbconvert_exporter": "python",
   "pygments_lexer": "ipython3",
   "version": "3.9.12"
  }
 },
 "nbformat": 4,
 "nbformat_minor": 2
}
