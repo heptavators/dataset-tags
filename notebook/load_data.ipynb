{
 "cells": [
  {
   "cell_type": "code",
   "execution_count": 255,
   "metadata": {},
   "outputs": [],
   "source": [
    "import pandas as pd\n",
    "import numpy as np"
   ]
  },
  {
   "cell_type": "code",
   "execution_count": 256,
   "metadata": {},
   "outputs": [],
   "source": [
    "reviews = pd.read_csv('../data/reviews.csv')"
   ]
  },
  {
   "cell_type": "code",
   "execution_count": 257,
   "metadata": {},
   "outputs": [],
   "source": [
    "user_reviews = reviews.user_id.values\n",
    "talent_reviews = reviews.talent_id.values"
   ]
  },
  {
   "cell_type": "code",
   "execution_count": 258,
   "metadata": {},
   "outputs": [],
   "source": [
    "users = pd.read_csv('../data/users.csv')"
   ]
  },
  {
   "cell_type": "code",
   "execution_count": 259,
   "metadata": {},
   "outputs": [
    {
     "data": {
      "text/plain": [
       "754"
      ]
     },
     "execution_count": 259,
     "metadata": {},
     "output_type": "execute_result"
    }
   ],
   "source": [
    "users[\"user_id\"].isin(user_reviews).sum()"
   ]
  },
  {
   "cell_type": "code",
   "execution_count": 260,
   "metadata": {},
   "outputs": [
    {
     "data": {
      "text/html": [
       "<div>\n",
       "<style scoped>\n",
       "    .dataframe tbody tr th:only-of-type {\n",
       "        vertical-align: middle;\n",
       "    }\n",
       "\n",
       "    .dataframe tbody tr th {\n",
       "        vertical-align: top;\n",
       "    }\n",
       "\n",
       "    .dataframe thead th {\n",
       "        text-align: right;\n",
       "    }\n",
       "</style>\n",
       "<table border=\"1\" class=\"dataframe\">\n",
       "  <thead>\n",
       "    <tr style=\"text-align: right;\">\n",
       "      <th></th>\n",
       "      <th>user_id</th>\n",
       "      <th>user_name</th>\n",
       "      <th>user_gender</th>\n",
       "      <th>user_birth_date</th>\n",
       "      <th>user_age</th>\n",
       "      <th>user_location</th>\n",
       "      <th>user_tags</th>\n",
       "      <th>user_preferences</th>\n",
       "    </tr>\n",
       "  </thead>\n",
       "  <tbody>\n",
       "    <tr>\n",
       "      <th>376</th>\n",
       "      <td>82e49d8e-c581-4064-8a8b-0aa61c727efb</td>\n",
       "      <td>Hafied Rumengan</td>\n",
       "      <td>L</td>\n",
       "      <td>20/5/1983</td>\n",
       "      <td>40</td>\n",
       "      <td>Banten, Tangerang Selatan</td>\n",
       "      <td>Seni|Percaya diri|Bekerja|Desainer interior|Me...</td>\n",
       "      <td>Seseorang yang percaya diri dan memiliki minat...</td>\n",
       "    </tr>\n",
       "    <tr>\n",
       "      <th>389</th>\n",
       "      <td>092042e6-827a-43de-8297-a4242cacdbb2</td>\n",
       "      <td>Umi Nabila Adi Aurelia</td>\n",
       "      <td>P</td>\n",
       "      <td>27/11/1999</td>\n",
       "      <td>24</td>\n",
       "      <td>Maluku, Ambon</td>\n",
       "      <td>Pecinta alam|Konservasi|Ahli biologi|Fotografi...</td>\n",
       "      <td>Saya seorang ahli biologi yang mencintai alam ...</td>\n",
       "    </tr>\n",
       "    <tr>\n",
       "      <th>396</th>\n",
       "      <td>3b63e2aa-b8ab-45f7-b294-b525c060802d</td>\n",
       "      <td>Apriana Boro Puspita Rahmiati</td>\n",
       "      <td>P</td>\n",
       "      <td>9/1/2004</td>\n",
       "      <td>19</td>\n",
       "      <td>Kalimantan Timur, Samarinda</td>\n",
       "      <td>Seni|Arsitek|Traveling|Desainer interior|Desain</td>\n",
       "      <td>Seorang desainer interior dan arsitek yang men...</td>\n",
       "    </tr>\n",
       "    <tr>\n",
       "      <th>414</th>\n",
       "      <td>7fdfc453-a7fb-4f96-80e0-3f82dff010a1</td>\n",
       "      <td>Nurmasitha Maharani Ummu Ayu</td>\n",
       "      <td>P</td>\n",
       "      <td>21/8/1998</td>\n",
       "      <td>25</td>\n",
       "      <td>Nusa Tenggara Timur, Kupang</td>\n",
       "      <td>Romantis|Bersepeda|Berpikir|Koki|Gym</td>\n",
       "      <td>Suka masak dan olahraga di gym. Pengen teman y...</td>\n",
       "    </tr>\n",
       "    <tr>\n",
       "      <th>419</th>\n",
       "      <td>8ee96d0c-338e-4236-83b6-ff2bcca35c23</td>\n",
       "      <td>Muhammad Priatna</td>\n",
       "      <td>L</td>\n",
       "      <td>29/12/1999</td>\n",
       "      <td>24</td>\n",
       "      <td>Gorontalo, Gorontalo</td>\n",
       "      <td>Bisnis|Seni|Desain|Desainer grafis|Kreatif</td>\n",
       "      <td>Seorang desainer grafis yang sedang mencari te...</td>\n",
       "    </tr>\n",
       "  </tbody>\n",
       "</table>\n",
       "</div>"
      ],
      "text/plain": [
       "                                  user_id                      user_name  \\\n",
       "376  82e49d8e-c581-4064-8a8b-0aa61c727efb                Hafied Rumengan   \n",
       "389  092042e6-827a-43de-8297-a4242cacdbb2         Umi Nabila Adi Aurelia   \n",
       "396  3b63e2aa-b8ab-45f7-b294-b525c060802d  Apriana Boro Puspita Rahmiati   \n",
       "414  7fdfc453-a7fb-4f96-80e0-3f82dff010a1   Nurmasitha Maharani Ummu Ayu   \n",
       "419  8ee96d0c-338e-4236-83b6-ff2bcca35c23               Muhammad Priatna   \n",
       "\n",
       "    user_gender user_birth_date  user_age                user_location  \\\n",
       "376           L       20/5/1983        40    Banten, Tangerang Selatan   \n",
       "389           P      27/11/1999        24                Maluku, Ambon   \n",
       "396           P        9/1/2004        19  Kalimantan Timur, Samarinda   \n",
       "414           P       21/8/1998        25  Nusa Tenggara Timur, Kupang   \n",
       "419           L      29/12/1999        24         Gorontalo, Gorontalo   \n",
       "\n",
       "                                             user_tags  \\\n",
       "376  Seni|Percaya diri|Bekerja|Desainer interior|Me...   \n",
       "389  Pecinta alam|Konservasi|Ahli biologi|Fotografi...   \n",
       "396    Seni|Arsitek|Traveling|Desainer interior|Desain   \n",
       "414               Romantis|Bersepeda|Berpikir|Koki|Gym   \n",
       "419         Bisnis|Seni|Desain|Desainer grafis|Kreatif   \n",
       "\n",
       "                                      user_preferences  \n",
       "376  Seseorang yang percaya diri dan memiliki minat...  \n",
       "389  Saya seorang ahli biologi yang mencintai alam ...  \n",
       "396  Seorang desainer interior dan arsitek yang men...  \n",
       "414  Suka masak dan olahraga di gym. Pengen teman y...  \n",
       "419  Seorang desainer grafis yang sedang mencari te...  "
      ]
     },
     "execution_count": 260,
     "metadata": {},
     "output_type": "execute_result"
    }
   ],
   "source": [
    "users.loc[~users[\"user_id\"].isin(user_reviews)].head()"
   ]
  },
  {
   "cell_type": "code",
   "execution_count": 261,
   "metadata": {},
   "outputs": [],
   "source": [
    "users = users.loc[~users[\"user_id\"].isin(user_reviews), \"user_tags\"]"
   ]
  },
  {
   "cell_type": "code",
   "execution_count": 262,
   "metadata": {},
   "outputs": [],
   "source": [
    "users.head(n=50).to_csv(\"us.csv\")"
   ]
  },
  {
   "cell_type": "code",
   "execution_count": 263,
   "metadata": {},
   "outputs": [],
   "source": [
    "# users.to_csv('prompt-user.csv')"
   ]
  },
  {
   "cell_type": "code",
   "execution_count": 264,
   "metadata": {},
   "outputs": [],
   "source": [
    "talents = pd.read_csv(\"../data/talents.csv\")"
   ]
  },
  {
   "cell_type": "code",
   "execution_count": 265,
   "metadata": {},
   "outputs": [
    {
     "data": {
      "text/plain": [
       "509"
      ]
     },
     "execution_count": 265,
     "metadata": {},
     "output_type": "execute_result"
    }
   ],
   "source": [
    "talents[\"talent_id\"].isin(talent_reviews).sum()"
   ]
  },
  {
   "cell_type": "code",
   "execution_count": 266,
   "metadata": {},
   "outputs": [],
   "source": [
    "# talents = talents.loc[~talents[\"talent_id\"].isin(talent_reviews), \"talent_tags\"]"
   ]
  },
  {
   "cell_type": "code",
   "execution_count": 267,
   "metadata": {},
   "outputs": [],
   "source": [
    "talents.sample(n=50 if len(talents) > 50 else len(talents))['talent_tags'].to_csv(\"ta.csv\")"
   ]
  },
  {
   "cell_type": "code",
   "execution_count": 268,
   "metadata": {},
   "outputs": [],
   "source": [
    "# talents.to_csv(\"prompt-talent.csv\")"
   ]
  },
  {
   "cell_type": "code",
   "execution_count": null,
   "metadata": {},
   "outputs": [],
   "source": []
  }
 ],
 "metadata": {
  "kernelspec": {
   "display_name": "base",
   "language": "python",
   "name": "python3"
  },
  "language_info": {
   "codemirror_mode": {
    "name": "ipython",
    "version": 3
   },
   "file_extension": ".py",
   "mimetype": "text/x-python",
   "name": "python",
   "nbconvert_exporter": "python",
   "pygments_lexer": "ipython3",
   "version": "3.9.12"
  }
 },
 "nbformat": 4,
 "nbformat_minor": 2
}
