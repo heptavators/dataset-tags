{
 "cells": [
  {
   "cell_type": "code",
   "execution_count": 1,
   "metadata": {},
   "outputs": [],
   "source": [
    "import pandas as pd\n",
    "import numpy as np"
   ]
  },
  {
   "cell_type": "code",
   "execution_count": 2,
   "metadata": {},
   "outputs": [],
   "source": [
    "users_df = pd.read_csv('../data/users.csv')\n",
    "talents_df = pd.read_csv('../data/talents.csv')"
   ]
  },
  {
   "cell_type": "code",
   "execution_count": 3,
   "metadata": {},
   "outputs": [],
   "source": [
    "tags = pd.read_csv('../data/tags.csv')\n",
    "list_tags = tags['tag'].values"
   ]
  },
  {
   "cell_type": "code",
   "execution_count": 4,
   "metadata": {},
   "outputs": [],
   "source": [
    "def check_outlier(df, column):\n",
    "    outlier = []\n",
    "\n",
    "    for values in (\n",
    "        df[column].str.split('|').values\n",
    "    ):\n",
    "        for tag in values:\n",
    "            if tag not in list_tags:\n",
    "                outlier.append(tag)\n",
    "\n",
    "    return np.array(list(set(outlier)))"
   ]
  },
  {
   "cell_type": "code",
   "execution_count": 5,
   "metadata": {},
   "outputs": [
    {
     "data": {
      "text/plain": [
       "array([], dtype=float64)"
      ]
     },
     "execution_count": 5,
     "metadata": {},
     "output_type": "execute_result"
    }
   ],
   "source": [
    "check_outlier(users_df, 'user_tags')"
   ]
  },
  {
   "cell_type": "code",
   "execution_count": 6,
   "metadata": {},
   "outputs": [
    {
     "data": {
      "text/plain": [
       "array([], dtype=float64)"
      ]
     },
     "execution_count": 6,
     "metadata": {},
     "output_type": "execute_result"
    }
   ],
   "source": [
    "check_outlier(talents_df, 'talent_tags')"
   ]
  },
  {
   "cell_type": "code",
   "execution_count": 7,
   "metadata": {},
   "outputs": [],
   "source": [
    "def impute_random_tag(tags: list) -> str:\n",
    "    if len(tags) < 5:\n",
    "        while len(tags) != 5:\n",
    "            random_tag = np.random.choice(list_tags)\n",
    "            tags.append(random_tag)\n",
    "\n",
    "    for i in range(len(tags)):\n",
    "        if tags[i] not in list_tags:\n",
    "            tags[i] = np.random.choice(list_tags)\n",
    "\n",
    "    unique_tag = list(set(tags))\n",
    "\n",
    "    if len(unique_tag) != 5:\n",
    "        print(f'Before : {tags}')\n",
    "        random_tag = np.random.choice(list_tags)\n",
    "        while random_tag in unique_tag:\n",
    "            random_tag = np.random.choice(list_tags)\n",
    "        unique_tag.append(random_tag)\n",
    "        print(f'After : {unique_tag}')\n",
    "\n",
    "    for i in range(len(unique_tag)):\n",
    "        tag = unique_tag[i].split(\"-\")\n",
    "        if len(tag) > 1:\n",
    "            unique_tag[i] = \" \".join(tag)\n",
    "\n",
    "    return \"|\".join(unique_tag)"
   ]
  },
  {
   "cell_type": "code",
   "execution_count": 8,
   "metadata": {},
   "outputs": [
    {
     "name": "stdout",
     "output_type": "stream",
     "text": [
      "Before : ['Memanjat', 'Binaraga', 'Olahraga', 'Analis keamanan', 'Memanjat']\n",
      "After : ['Olahraga', 'Analis keamanan', 'Memanjat', 'Binaraga', 'Hang Out']\n",
      "Before : ['Analitis', 'Analitis', 'Catur', 'Kpopers', 'Berkebun']\n",
      "After : ['Catur', 'Berkebun', 'Analitis', 'Kpopers', 'Yoga']\n",
      "Before : ['Merenung', 'Prank', 'Kesehatan', 'Hiking', 'Merenung']\n",
      "After : ['Prank', 'Hiking', 'Merenung', 'Kesehatan', 'Grafity']\n",
      "Before : ['Ice skating', 'Akting', 'Editor', 'Eksperimen', 'Ice skating']\n",
      "After : ['Eksperimen', 'Akting', 'Ice skating', 'Editor', 'Astrografi']\n",
      "Before : ['Aktor/Aktris', 'Penuh daya juang', 'Content creator', 'Aktor/Aktris', 'Sulap']\n",
      "After : ['Content creator', 'Sulap', 'Penuh daya juang', 'Aktor/Aktris', 'Cosplayer']\n",
      "Before : ['Teknologi', 'Teknologi', 'Cosplayer', 'Editor', 'Animator']\n",
      "After : ['Editor', 'Cosplayer', 'Teknologi', 'Animator', 'Berpikir']\n",
      "Before : ['Desain', 'Film', 'Berdiskusi', 'Browsing', 'Browsing']\n",
      "After : ['Berdiskusi', 'Browsing', 'Film', 'Desain', 'Kesehatan']\n",
      "Before : ['Konsultan', 'Lari', 'Melukis', 'Lari', 'Content creator']\n",
      "After : ['Konsultan', 'Content creator', 'Melukis', 'Lari', 'Pet lovers']\n",
      "Before : ['Multimedia', 'Multimedia', 'Terorganisir', 'Rendah hati', 'Sastra']\n",
      "After : ['Multimedia', 'Terorganisir', 'Rendah hati', 'Sastra', 'Perawat']\n",
      "Before : ['Programmer', 'Ice skating', 'Bersepeda', 'Introspektif', 'Programmer']\n",
      "After : ['Programmer', 'Ice skating', 'Bersepeda', 'Introspektif', 'Ngopi']\n",
      "Before : ['Mendengarkan musik', 'Mendengarkan musik', 'Optimis', 'Menggambar', 'Yoga']\n",
      "After : ['Menggambar', 'Optimis', 'Mendengarkan musik', 'Yoga', 'Olahraga']\n",
      "Before : ['Tidur', 'Nakhoda kapal', 'Psikolog', 'Tidur', 'Memasak']\n",
      "After : ['Nakhoda kapal', 'Tidur', 'Memasak', 'Psikolog', 'Curhat']\n",
      "Before : ['Sosmed', 'Sosmed', 'Penerjemah', 'Berjiwa sosial', 'Kpopers']\n",
      "After : ['Penerjemah', 'Berjiwa sosial', 'Sosmed', 'Kpopers', 'Pengusaha']\n",
      "Before : ['Kerja', 'Tidur', 'Kutu buku', 'Anak Senja', 'Anak Senja']\n",
      "After : ['Kutu buku', 'Tidur', 'Kerja', 'Anak Senja', 'Optimis']\n",
      "Before : ['Tidur', 'Bernyanyi', 'Penata rambut', 'Arkeolog', 'Penata rambut']\n",
      "After : ['Bernyanyi', 'Tidur', 'Penata rambut', 'Arkeolog', 'Memasak']\n",
      "Before : ['Hiking', 'Berjiwa sosial', 'Mendaki', 'Diplomat', 'Diplomat']\n",
      "After : ['Hiking', 'Berjiwa sosial', 'Mendaki', 'Diplomat', 'Tenis meja']\n",
      "Before : ['Menari', 'Basket', 'Anak Senja', 'Anak Senja', 'Eksperimen']\n",
      "After : ['Eksperimen', 'Menari', 'Basket', 'Anak Senja', 'Rendah hati']\n",
      "Before : ['Romantis', 'Bersepeda', 'Editor', 'Cosplayer', 'Bersepeda']\n",
      "After : ['Romantis', 'Bersepeda', 'Editor', 'Cosplayer', 'Patriotik']\n",
      "Before : ['Membaca', 'Cosplay', 'Pengajar', 'Membaca', 'Rebahan']\n",
      "After : ['Membaca', 'Rebahan', 'Cosplay', 'Pengajar', 'Disiplin']\n",
      "Before : ['Penerjemah', 'Bermain musik', 'Bermain musik', 'Ahli biologi', 'Kutu buku']\n",
      "After : ['Kutu buku', 'Bermain musik', 'Penerjemah', 'Ahli biologi', 'Tenis meja']\n",
      "Before : ['Menggambar', 'Introspektif', 'Introspektif', 'Kesehatan', 'Jogging']\n",
      "After : ['Menggambar', 'Introspektif', 'Kesehatan', 'Jogging', 'Penyiar radio']\n",
      "Before : ['Coding', 'Teknologi', 'Gamers', 'Programmer', 'Coding']\n",
      "After : ['Coding', 'Programmer', 'Gamers', 'Teknologi', 'Montir mobil']\n",
      "Before : ['Coding', 'Teknologi', 'Gamers', 'Programmer', 'Coding']\n",
      "After : ['Coding', 'Programmer', 'Gamers', 'Teknologi', 'Membaca']\n",
      "Before : ['Curhat', 'Diskusi', 'Humoris', 'Berenang', 'Curhat']\n",
      "After : ['Curhat', 'Berenang', 'Humoris', 'Diskusi', 'Berdiskusi']\n",
      "Before : ['Disiplin', 'Terorganisir', 'Bekerja', 'Disiplin', 'Atlet']\n",
      "After : ['Atlet', 'Disiplin', 'Bekerja', 'Terorganisir', 'Desainer interior']\n",
      "Before : ['Komposer', 'Musisi', 'Berpikir', 'Kreatif', 'Kreatif']\n",
      "After : ['Musisi', 'Kreatif', 'Berpikir', 'Komposer', 'Ilustrator']\n",
      "Before : ['Penulis lagu', 'Musisi', 'Kreatif', 'Percaya diri', 'Kreatif']\n",
      "After : ['Musisi', 'Penulis lagu', 'Kreatif', 'Percaya diri', 'Suka menolong']\n",
      "Before : ['Percaya diri', 'Pramugari', 'Percaya diri', 'Pengusaha', 'Cosplayer']\n",
      "After : ['Percaya diri', 'Pengusaha', 'Pramugari', 'Cosplayer', 'Voli']\n",
      "Before : ['Jogging', 'Pecinta alam', 'Pemandu wisata', 'Percaya diri', 'Pecinta alam']\n",
      "After : ['Pemandu wisata', 'Pecinta alam', 'Percaya diri', 'Jogging', 'Keibuan']\n",
      "Before : ['Aktor/Aktris', 'Seni', 'Film', 'Seni', 'Bermain musik']\n",
      "After : ['Film', 'Seni', 'Aktor/Aktris', 'Bermain musik', 'Penuh daya juang']\n"
     ]
    }
   ],
   "source": [
    "users_df.loc[:, 'user_tags'] = users_df[\"user_tags\"].str.split(\"|\").map(impute_random_tag)"
   ]
  },
  {
   "cell_type": "code",
   "execution_count": 9,
   "metadata": {},
   "outputs": [],
   "source": [
    "talents_df.loc[:, \"talent_tags\"] = (\n",
    "    talents_df[\"talent_tags\"].str.split(\"|\").map(impute_random_tag)\n",
    ")"
   ]
  },
  {
   "cell_type": "code",
   "execution_count": 10,
   "metadata": {},
   "outputs": [
    {
     "data": {
      "text/plain": [
       "array([], dtype=float64)"
      ]
     },
     "execution_count": 10,
     "metadata": {},
     "output_type": "execute_result"
    }
   ],
   "source": [
    "check_outlier(users_df, 'user_tags')"
   ]
  },
  {
   "cell_type": "code",
   "execution_count": 11,
   "metadata": {},
   "outputs": [
    {
     "data": {
      "text/plain": [
       "array([], dtype=float64)"
      ]
     },
     "execution_count": 11,
     "metadata": {},
     "output_type": "execute_result"
    }
   ],
   "source": [
    "check_outlier(talents_df, 'talent_tags')"
   ]
  },
  {
   "cell_type": "code",
   "execution_count": 12,
   "metadata": {},
   "outputs": [],
   "source": [
    "users_df.to_csv('../data/users.csv', index=False)"
   ]
  },
  {
   "cell_type": "code",
   "execution_count": 13,
   "metadata": {},
   "outputs": [],
   "source": [
    "talents_df.to_csv(\"../data/talents.csv\", index=False)"
   ]
  },
  {
   "cell_type": "code",
   "execution_count": null,
   "metadata": {},
   "outputs": [],
   "source": []
  }
 ],
 "metadata": {
  "kernelspec": {
   "display_name": "base",
   "language": "python",
   "name": "python3"
  },
  "language_info": {
   "codemirror_mode": {
    "name": "ipython",
    "version": 3
   },
   "file_extension": ".py",
   "mimetype": "text/x-python",
   "name": "python",
   "nbconvert_exporter": "python",
   "pygments_lexer": "ipython3",
   "version": "3.9.12"
  }
 },
 "nbformat": 4,
 "nbformat_minor": 2
}
